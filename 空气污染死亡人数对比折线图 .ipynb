{
 "cells": [
  {
   "cell_type": "code",
   "execution_count": 3,
   "metadata": {},
   "outputs": [
    {
     "data": {
      "text/html": [
       "<div>\n",
       "<style scoped>\n",
       "    .dataframe tbody tr th:only-of-type {\n",
       "        vertical-align: middle;\n",
       "    }\n",
       "\n",
       "    .dataframe tbody tr th {\n",
       "        vertical-align: top;\n",
       "    }\n",
       "\n",
       "    .dataframe thead th {\n",
       "        text-align: right;\n",
       "    }\n",
       "</style>\n",
       "<table border=\"1\" class=\"dataframe\">\n",
       "  <thead>\n",
       "    <tr style=\"text-align: right;\">\n",
       "      <th></th>\n",
       "      <th>causeofdeath</th>\n",
       "      <th>2007</th>\n",
       "      <th>2008</th>\n",
       "      <th>2009</th>\n",
       "      <th>2010</th>\n",
       "      <th>2011</th>\n",
       "      <th>2012</th>\n",
       "      <th>2013</th>\n",
       "      <th>2014</th>\n",
       "      <th>2015</th>\n",
       "      <th>2016</th>\n",
       "      <th>2017</th>\n",
       "    </tr>\n",
       "  </thead>\n",
       "  <tbody>\n",
       "    <tr>\n",
       "      <th>0</th>\n",
       "      <td>空气污染</td>\n",
       "      <td>4.63</td>\n",
       "      <td>4.67</td>\n",
       "      <td>4.71</td>\n",
       "      <td>4.76</td>\n",
       "      <td>4.80</td>\n",
       "      <td>4.77</td>\n",
       "      <td>4.77</td>\n",
       "      <td>4.78</td>\n",
       "      <td>4.88</td>\n",
       "      <td>4.86</td>\n",
       "      <td>4.90</td>\n",
       "    </tr>\n",
       "    <tr>\n",
       "      <th>1</th>\n",
       "      <td>室外空气污染</td>\n",
       "      <td>2.81</td>\n",
       "      <td>2.89</td>\n",
       "      <td>2.96</td>\n",
       "      <td>3.04</td>\n",
       "      <td>3.12</td>\n",
       "      <td>3.09</td>\n",
       "      <td>3.14</td>\n",
       "      <td>3.18</td>\n",
       "      <td>3.32</td>\n",
       "      <td>3.32</td>\n",
       "      <td>3.41</td>\n",
       "    </tr>\n",
       "    <tr>\n",
       "      <th>2</th>\n",
       "      <td>室内空气污染</td>\n",
       "      <td>1.96</td>\n",
       "      <td>1.93</td>\n",
       "      <td>1.90</td>\n",
       "      <td>1.87</td>\n",
       "      <td>1.83</td>\n",
       "      <td>1.82</td>\n",
       "      <td>1.77</td>\n",
       "      <td>1.74</td>\n",
       "      <td>1.71</td>\n",
       "      <td>1.70</td>\n",
       "      <td>1.64</td>\n",
       "    </tr>\n",
       "  </tbody>\n",
       "</table>\n",
       "</div>"
      ],
      "text/plain": [
       "  causeofdeath  2007  2008  2009  2010  2011  2012  2013  2014  2015  2016  \\\n",
       "0         空气污染  4.63  4.67  4.71  4.76  4.80  4.77  4.77  4.78  4.88  4.86   \n",
       "1       室外空气污染  2.81  2.89  2.96  3.04  3.12  3.09  3.14  3.18  3.32  3.32   \n",
       "2       室内空气污染  1.96  1.93  1.90  1.87  1.83  1.82  1.77  1.74  1.71  1.70   \n",
       "\n",
       "   2017  \n",
       "0  4.90  \n",
       "1  3.41  \n",
       "2  1.64  "
      ]
     },
     "execution_count": 3,
     "metadata": {},
     "output_type": "execute_result"
    }
   ],
   "source": [
    "import pandas as pd\n",
    "df=pd.read_csv(\"number-of-deaths.csv\")\n",
    "df.head()"
   ]
  },
  {
   "cell_type": "code",
   "execution_count": 4,
   "metadata": {},
   "outputs": [
    {
     "data": {
      "text/plain": [
       "RangeIndex(start=0, stop=3, step=1)"
      ]
     },
     "execution_count": 4,
     "metadata": {},
     "output_type": "execute_result"
    }
   ],
   "source": [
    "df.index"
   ]
  },
  {
   "cell_type": "code",
   "execution_count": 5,
   "metadata": {},
   "outputs": [
    {
     "data": {
      "text/plain": [
       "Index(['causeofdeath', '2007', '2008', '2009', '2010', '2011', '2012', '2013',\n",
       "       '2014', '2015', '2016', '2017'],\n",
       "      dtype='object')"
      ]
     },
     "execution_count": 5,
     "metadata": {},
     "output_type": "execute_result"
    }
   ],
   "source": [
    "df.columns"
   ]
  },
  {
   "cell_type": "code",
   "execution_count": 8,
   "metadata": {},
   "outputs": [
    {
     "data": {
      "text/html": [
       "<div>\n",
       "<style scoped>\n",
       "    .dataframe tbody tr th:only-of-type {\n",
       "        vertical-align: middle;\n",
       "    }\n",
       "\n",
       "    .dataframe tbody tr th {\n",
       "        vertical-align: top;\n",
       "    }\n",
       "\n",
       "    .dataframe thead th {\n",
       "        text-align: right;\n",
       "    }\n",
       "</style>\n",
       "<table border=\"1\" class=\"dataframe\">\n",
       "  <thead>\n",
       "    <tr style=\"text-align: right;\">\n",
       "      <th></th>\n",
       "      <th>2007</th>\n",
       "      <th>2008</th>\n",
       "      <th>2009</th>\n",
       "      <th>2010</th>\n",
       "      <th>2011</th>\n",
       "      <th>2012</th>\n",
       "      <th>2013</th>\n",
       "      <th>2014</th>\n",
       "      <th>2015</th>\n",
       "      <th>2016</th>\n",
       "      <th>2017</th>\n",
       "    </tr>\n",
       "    <tr>\n",
       "      <th>causeofdeath</th>\n",
       "      <th></th>\n",
       "      <th></th>\n",
       "      <th></th>\n",
       "      <th></th>\n",
       "      <th></th>\n",
       "      <th></th>\n",
       "      <th></th>\n",
       "      <th></th>\n",
       "      <th></th>\n",
       "      <th></th>\n",
       "      <th></th>\n",
       "    </tr>\n",
       "  </thead>\n",
       "  <tbody>\n",
       "    <tr>\n",
       "      <th>空气污染</th>\n",
       "      <td>4.63</td>\n",
       "      <td>4.67</td>\n",
       "      <td>4.71</td>\n",
       "      <td>4.76</td>\n",
       "      <td>4.80</td>\n",
       "      <td>4.77</td>\n",
       "      <td>4.77</td>\n",
       "      <td>4.78</td>\n",
       "      <td>4.88</td>\n",
       "      <td>4.86</td>\n",
       "      <td>4.90</td>\n",
       "    </tr>\n",
       "    <tr>\n",
       "      <th>室外空气污染</th>\n",
       "      <td>2.81</td>\n",
       "      <td>2.89</td>\n",
       "      <td>2.96</td>\n",
       "      <td>3.04</td>\n",
       "      <td>3.12</td>\n",
       "      <td>3.09</td>\n",
       "      <td>3.14</td>\n",
       "      <td>3.18</td>\n",
       "      <td>3.32</td>\n",
       "      <td>3.32</td>\n",
       "      <td>3.41</td>\n",
       "    </tr>\n",
       "    <tr>\n",
       "      <th>室内空气污染</th>\n",
       "      <td>1.96</td>\n",
       "      <td>1.93</td>\n",
       "      <td>1.90</td>\n",
       "      <td>1.87</td>\n",
       "      <td>1.83</td>\n",
       "      <td>1.82</td>\n",
       "      <td>1.77</td>\n",
       "      <td>1.74</td>\n",
       "      <td>1.71</td>\n",
       "      <td>1.70</td>\n",
       "      <td>1.64</td>\n",
       "    </tr>\n",
       "  </tbody>\n",
       "</table>\n",
       "</div>"
      ],
      "text/plain": [
       "              2007  2008  2009  2010  2011  2012  2013  2014  2015  2016  2017\n",
       "causeofdeath                                                                  \n",
       "空气污染          4.63  4.67  4.71  4.76  4.80  4.77  4.77  4.78  4.88  4.86  4.90\n",
       "室外空气污染        2.81  2.89  2.96  3.04  3.12  3.09  3.14  3.18  3.32  3.32  3.41\n",
       "室内空气污染        1.96  1.93  1.90  1.87  1.83  1.82  1.77  1.74  1.71  1.70  1.64"
      ]
     },
     "execution_count": 8,
     "metadata": {},
     "output_type": "execute_result"
    }
   ],
   "source": [
    "dfc = df.set_index(\"causeofdeath\")\n",
    "dfc.head()"
   ]
  },
  {
   "cell_type": "code",
   "execution_count": 9,
   "metadata": {},
   "outputs": [
    {
     "data": {
      "text/plain": [
       "Index(['空气污染', '室外空气污染', '室内空气污染'], dtype='object', name='causeofdeath')"
      ]
     },
     "execution_count": 9,
     "metadata": {},
     "output_type": "execute_result"
    }
   ],
   "source": [
    "dfc.index"
   ]
  },
  {
   "cell_type": "code",
   "execution_count": 10,
   "metadata": {},
   "outputs": [
    {
     "data": {
      "text/plain": [
       "Index(['2007', '2008', '2009', '2010', '2011', '2012', '2013', '2014', '2015',\n",
       "       '2016', '2017'],\n",
       "      dtype='object')"
      ]
     },
     "execution_count": 10,
     "metadata": {},
     "output_type": "execute_result"
    }
   ],
   "source": [
    "dfc.columns"
   ]
  },
  {
   "cell_type": "code",
   "execution_count": 11,
   "metadata": {},
   "outputs": [
    {
     "data": {
      "text/plain": [
       "[2007, 2008, 2009, 2010, 2011, 2012, 2013, 2014, 2015, 2016, 2017]"
      ]
     },
     "execution_count": 11,
     "metadata": {},
     "output_type": "execute_result"
    }
   ],
   "source": [
    "[int(x) for x in dfc.columns]"
   ]
  },
  {
   "cell_type": "code",
   "execution_count": 12,
   "metadata": {},
   "outputs": [
    {
     "data": {
      "text/plain": [
       "2007    4.63\n",
       "2008    4.67\n",
       "2009    4.71\n",
       "2010    4.76\n",
       "2011    4.80\n",
       "2012    4.77\n",
       "2013    4.77\n",
       "2014    4.78\n",
       "2015    4.88\n",
       "2016    4.86\n",
       "2017    4.90\n",
       "Name: 空气污染, dtype: float64"
      ]
     },
     "execution_count": 12,
     "metadata": {},
     "output_type": "execute_result"
    }
   ],
   "source": [
    "dfc.loc[\"空气污染\",:]"
   ]
  },
  {
   "cell_type": "code",
   "execution_count": 13,
   "metadata": {},
   "outputs": [
    {
     "data": {
      "text/plain": [
       "'空气污染'"
      ]
     },
     "execution_count": 13,
     "metadata": {},
     "output_type": "execute_result"
    }
   ],
   "source": [
    "dfc.loc[\"空气污染\",:].name"
   ]
  },
  {
   "cell_type": "code",
   "execution_count": 14,
   "metadata": {},
   "outputs": [
    {
     "data": {
      "text/plain": [
       "array([4.63, 4.67, 4.71, 4.76, 4.8 , 4.77, 4.77, 4.78, 4.88, 4.86, 4.9 ])"
      ]
     },
     "execution_count": 14,
     "metadata": {},
     "output_type": "execute_result"
    }
   ],
   "source": [
    "dfc.loc[\"空气污染\",:].values"
   ]
  },
  {
   "cell_type": "code",
   "execution_count": 15,
   "metadata": {},
   "outputs": [
    {
     "data": {
      "text/plain": [
       "Index(['2007', '2008', '2009', '2010', '2011', '2012', '2013', '2014', '2015',\n",
       "       '2016', '2017'],\n",
       "      dtype='object')"
      ]
     },
     "execution_count": 15,
     "metadata": {},
     "output_type": "execute_result"
    }
   ],
   "source": [
    "dfc.loc[\"空气污染\",:].index"
   ]
  },
  {
   "cell_type": "code",
   "execution_count": 18,
   "metadata": {},
   "outputs": [],
   "source": [
    "import plotly as py\n",
    "from plotly.graph_objs import Scatter,Layout\n",
    "\n",
    "kqwr = Scatter(\n",
    "    x=[int(x) for x in dfc.columns],\n",
    "    y=dfc.loc[\"空气污染\",:].values\n",
    ")"
   ]
  },
  {
   "cell_type": "code",
   "execution_count": 19,
   "metadata": {},
   "outputs": [],
   "source": [
    "swkqwr = Scatter(\n",
    "    x=[int(x) for x in dfc.columns],\n",
    "    y=dfc.loc[\"室外空气污染\",:].values\n",
    ")"
   ]
  },
  {
   "cell_type": "code",
   "execution_count": 20,
   "metadata": {},
   "outputs": [],
   "source": [
    "snkqwr = Scatter(\n",
    "    x=[int(x) for x in dfc.columns],\n",
    "    y=dfc.loc[\"室内空气污染\",:].values\n",
    ")"
   ]
  },
  {
   "cell_type": "code",
   "execution_count": 21,
   "metadata": {},
   "outputs": [],
   "source": [
    "kqwr = Scatter(\n",
    "    x=[int(x) for x in dfc.columns],\n",
    "    y=dfc.loc[\"空气污染\",:].values,\n",
    "    name = \"空气污染\"\n",
    ")\n",
    "\n",
    "swkqwr = Scatter(\n",
    "    x=[int(x) for x in dfc.columns],\n",
    "    y=dfc.loc[\"室外空气污染\",:].values,\n",
    "    name = \"室外空气污染\"\n",
    ")\n",
    "\n",
    "snkqwr = Scatter(\n",
    "    x=[int(x) for x in dfc.columns],\n",
    "    y=dfc.loc[\"室内空气污染\",:].values,\n",
    "    name = \"室内空气污染\"\n",
    ")"
   ]
  },
  {
   "cell_type": "code",
   "execution_count": 22,
   "metadata": {},
   "outputs": [
    {
     "data": {
      "text/html": [
       "<div>\n",
       "<style scoped>\n",
       "    .dataframe tbody tr th:only-of-type {\n",
       "        vertical-align: middle;\n",
       "    }\n",
       "\n",
       "    .dataframe tbody tr th {\n",
       "        vertical-align: top;\n",
       "    }\n",
       "\n",
       "    .dataframe thead th {\n",
       "        text-align: right;\n",
       "    }\n",
       "</style>\n",
       "<table border=\"1\" class=\"dataframe\">\n",
       "  <thead>\n",
       "    <tr style=\"text-align: right;\">\n",
       "      <th></th>\n",
       "      <th>2007</th>\n",
       "      <th>2008</th>\n",
       "      <th>2009</th>\n",
       "      <th>2010</th>\n",
       "      <th>2011</th>\n",
       "      <th>2012</th>\n",
       "      <th>2013</th>\n",
       "      <th>2014</th>\n",
       "      <th>2015</th>\n",
       "      <th>2016</th>\n",
       "      <th>2017</th>\n",
       "    </tr>\n",
       "    <tr>\n",
       "      <th>causeofdeath</th>\n",
       "      <th></th>\n",
       "      <th></th>\n",
       "      <th></th>\n",
       "      <th></th>\n",
       "      <th></th>\n",
       "      <th></th>\n",
       "      <th></th>\n",
       "      <th></th>\n",
       "      <th></th>\n",
       "      <th></th>\n",
       "      <th></th>\n",
       "    </tr>\n",
       "  </thead>\n",
       "  <tbody>\n",
       "    <tr>\n",
       "      <th>空气污染</th>\n",
       "      <td>4.63</td>\n",
       "      <td>4.67</td>\n",
       "      <td>4.71</td>\n",
       "      <td>4.76</td>\n",
       "      <td>4.80</td>\n",
       "      <td>4.77</td>\n",
       "      <td>4.77</td>\n",
       "      <td>4.78</td>\n",
       "      <td>4.88</td>\n",
       "      <td>4.86</td>\n",
       "      <td>4.90</td>\n",
       "    </tr>\n",
       "    <tr>\n",
       "      <th>室外空气污染</th>\n",
       "      <td>2.81</td>\n",
       "      <td>2.89</td>\n",
       "      <td>2.96</td>\n",
       "      <td>3.04</td>\n",
       "      <td>3.12</td>\n",
       "      <td>3.09</td>\n",
       "      <td>3.14</td>\n",
       "      <td>3.18</td>\n",
       "      <td>3.32</td>\n",
       "      <td>3.32</td>\n",
       "      <td>3.41</td>\n",
       "    </tr>\n",
       "    <tr>\n",
       "      <th>室内空气污染</th>\n",
       "      <td>1.96</td>\n",
       "      <td>1.93</td>\n",
       "      <td>1.90</td>\n",
       "      <td>1.87</td>\n",
       "      <td>1.83</td>\n",
       "      <td>1.82</td>\n",
       "      <td>1.77</td>\n",
       "      <td>1.74</td>\n",
       "      <td>1.71</td>\n",
       "      <td>1.70</td>\n",
       "      <td>1.64</td>\n",
       "    </tr>\n",
       "  </tbody>\n",
       "</table>\n",
       "</div>"
      ],
      "text/plain": [
       "              2007  2008  2009  2010  2011  2012  2013  2014  2015  2016  2017\n",
       "causeofdeath                                                                  \n",
       "空气污染          4.63  4.67  4.71  4.76  4.80  4.77  4.77  4.78  4.88  4.86  4.90\n",
       "室外空气污染        2.81  2.89  2.96  3.04  3.12  3.09  3.14  3.18  3.32  3.32  3.41\n",
       "室内空气污染        1.96  1.93  1.90  1.87  1.83  1.82  1.77  1.74  1.71  1.70  1.64"
      ]
     },
     "execution_count": 22,
     "metadata": {},
     "output_type": "execute_result"
    }
   ],
   "source": [
    "import pandas as pd\n",
    "dfe=pd.read_csv(\"number-of-deaths.csv\",index_col=0)\n",
    "dfe.head()"
   ]
  },
  {
   "cell_type": "code",
   "execution_count": 23,
   "metadata": {},
   "outputs": [
    {
     "data": {
      "text/html": [
       "<div>\n",
       "<style scoped>\n",
       "    .dataframe tbody tr th:only-of-type {\n",
       "        vertical-align: middle;\n",
       "    }\n",
       "\n",
       "    .dataframe tbody tr th {\n",
       "        vertical-align: top;\n",
       "    }\n",
       "\n",
       "    .dataframe thead th {\n",
       "        text-align: right;\n",
       "    }\n",
       "</style>\n",
       "<table border=\"1\" class=\"dataframe\">\n",
       "  <thead>\n",
       "    <tr style=\"text-align: right;\">\n",
       "      <th></th>\n",
       "      <th>2007</th>\n",
       "      <th>2008</th>\n",
       "      <th>2009</th>\n",
       "      <th>2010</th>\n",
       "      <th>2011</th>\n",
       "      <th>2012</th>\n",
       "      <th>2013</th>\n",
       "      <th>2014</th>\n",
       "      <th>2015</th>\n",
       "      <th>2016</th>\n",
       "      <th>2017</th>\n",
       "    </tr>\n",
       "  </thead>\n",
       "  <tbody>\n",
       "    <tr>\n",
       "      <th>kqwr</th>\n",
       "      <td>4.63</td>\n",
       "      <td>4.67</td>\n",
       "      <td>4.71</td>\n",
       "      <td>4.76</td>\n",
       "      <td>4.80</td>\n",
       "      <td>4.77</td>\n",
       "      <td>4.77</td>\n",
       "      <td>4.78</td>\n",
       "      <td>4.88</td>\n",
       "      <td>4.86</td>\n",
       "      <td>4.90</td>\n",
       "    </tr>\n",
       "    <tr>\n",
       "      <th>swkqwr</th>\n",
       "      <td>2.81</td>\n",
       "      <td>2.89</td>\n",
       "      <td>2.96</td>\n",
       "      <td>3.04</td>\n",
       "      <td>3.12</td>\n",
       "      <td>3.09</td>\n",
       "      <td>3.14</td>\n",
       "      <td>3.18</td>\n",
       "      <td>3.32</td>\n",
       "      <td>3.32</td>\n",
       "      <td>3.41</td>\n",
       "    </tr>\n",
       "    <tr>\n",
       "      <th>snkqwr</th>\n",
       "      <td>1.96</td>\n",
       "      <td>1.93</td>\n",
       "      <td>1.90</td>\n",
       "      <td>1.87</td>\n",
       "      <td>1.83</td>\n",
       "      <td>1.82</td>\n",
       "      <td>1.77</td>\n",
       "      <td>1.74</td>\n",
       "      <td>1.71</td>\n",
       "      <td>1.70</td>\n",
       "      <td>1.64</td>\n",
       "    </tr>\n",
       "  </tbody>\n",
       "</table>\n",
       "</div>"
      ],
      "text/plain": [
       "        2007  2008  2009  2010  2011  2012  2013  2014  2015  2016  2017\n",
       "kqwr    4.63  4.67  4.71  4.76  4.80  4.77  4.77  4.78  4.88  4.86  4.90\n",
       "swkqwr  2.81  2.89  2.96  3.04  3.12  3.09  3.14  3.18  3.32  3.32  3.41\n",
       "snkqwr  1.96  1.93  1.90  1.87  1.83  1.82  1.77  1.74  1.71  1.70  1.64"
      ]
     },
     "execution_count": 23,
     "metadata": {},
     "output_type": "execute_result"
    }
   ],
   "source": [
    "dfe.columns = [int(x) for x in dfe.columns]\n",
    "dfe.index = ['kqwr','swkqwr','snkqwr']\n",
    "dfe.head()"
   ]
  },
  {
   "cell_type": "code",
   "execution_count": 24,
   "metadata": {},
   "outputs": [
    {
     "data": {
      "text/plain": [
       "2007    4.63\n",
       "2008    4.67\n",
       "2009    4.71\n",
       "2010    4.76\n",
       "2011    4.80\n",
       "2012    4.77\n",
       "2013    4.77\n",
       "2014    4.78\n",
       "2015    4.88\n",
       "2016    4.86\n",
       "2017    4.90\n",
       "Name: kqwr, dtype: float64"
      ]
     },
     "execution_count": 24,
     "metadata": {},
     "output_type": "execute_result"
    }
   ],
   "source": [
    "dfe.loc[\"kqwr\",:]"
   ]
  },
  {
   "cell_type": "code",
   "execution_count": 41,
   "metadata": {},
   "outputs": [],
   "source": [
    "import plotly as py\n",
    "import plotly.graph_objs as go\n",
    "\n",
    "kqwr = go.Scatter(\n",
    "    x=[pd.to_datetime('01/01/{y}'.format(y=x), format=\"%m/%d/%Y\") for x in dfe.columns.values],\n",
    "    y=dfe.loc[\"kqwr\",:].values,\n",
    "    name = \"空气污染\"\n",
    ")\n",
    "\n",
    "swkqwr = go.Scatter(\n",
    "    x=[pd.to_datetime('01/01/{y}'.format(y=x), format=\"%m/%d/%Y\") for x in dfe.columns.values],\n",
    "    y=dfe.loc[\"swkqwr\",:].values,\n",
    "    name = \"室外空气污染\"\n",
    ")\n",
    "\n",
    "snkqwr = go.Scatter(\n",
    "    x=[pd.to_datetime('01/01/{y}'.format(y=x), format=\"%m/%d/%Y\") for x in dfe.columns.values],\n",
    "    y=dfe.loc[\"snkqwr\",:].values,\n",
    "    name = \"室内空气污染\"\n",
    ")\n",
    "\n",
    "layout = dict(xaxis=dict(rangeselector=dict( buttons=list([\n",
    "                                                dict(count=3,\n",
    "                                                     label=\"3年\",\n",
    "                                                     step=\"year\",\n",
    "                                                     stepmode=\"backward\"),\n",
    "                                                dict(count=5,\n",
    "                                                     label=\"5年\",\n",
    "                                                     step=\"year\",\n",
    "                                                     stepmode=\"backward\"),\n",
    "                                                dict(count=10,\n",
    "                                                     label=\"10年\",\n",
    "                                                     step=\"year\",\n",
    "                                                     stepmode=\"backward\"),\n",
    "                                                dict(count=20,\n",
    "                                                     label=\"20年\",\n",
    "                                                     step=\"year\",\n",
    "                                                     stepmode=\"backward\"),\n",
    "                                                dict(step=\"all\")\n",
    "                                            ])),\n",
    "                         rangeslider=dict(bgcolor=\"#70EC57\"),\n",
    "                         title='年份'\n",
    "                        ),\n",
    "              yaxis=dict(title='世界死亡人数'),\n",
    "              title=\"空气污染死亡人数对比折线图\"               \n",
    "             )\n",
    "\n",
    "abc = dict(data=[kqwr,swkqwr,snkqwr], layout=layout)"
   ]
  },
  {
   "cell_type": "code",
   "execution_count": 42,
   "metadata": {},
   "outputs": [
    {
     "data": {
      "text/plain": [
       "'空气污染死亡人数对比折线图.html'"
      ]
     },
     "execution_count": 42,
     "metadata": {},
     "output_type": "execute_result"
    }
   ],
   "source": [
    "py.offline.plot(abc, filename = \"空气污染死亡人数对比折线图.html\")"
   ]
  },
  {
   "cell_type": "code",
   "execution_count": null,
   "metadata": {},
   "outputs": [],
   "source": []
  }
 ],
 "metadata": {
  "kernelspec": {
   "display_name": "Python 3",
   "language": "python",
   "name": "python3"
  },
  "language_info": {
   "codemirror_mode": {
    "name": "ipython",
    "version": 3
   },
   "file_extension": ".py",
   "mimetype": "text/x-python",
   "name": "python",
   "nbconvert_exporter": "python",
   "pygments_lexer": "ipython3",
   "version": "3.7.0"
  }
 },
 "nbformat": 4,
 "nbformat_minor": 2
}
