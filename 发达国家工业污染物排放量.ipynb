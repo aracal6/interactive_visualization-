{
 "cells": [
  {
   "cell_type": "code",
   "execution_count": 117,
   "metadata": {},
   "outputs": [
    {
     "data": {
      "text/html": [
       "<div>\n",
       "<style scoped>\n",
       "    .dataframe tbody tr th:only-of-type {\n",
       "        vertical-align: middle;\n",
       "    }\n",
       "\n",
       "    .dataframe tbody tr th {\n",
       "        vertical-align: top;\n",
       "    }\n",
       "\n",
       "    .dataframe thead th {\n",
       "        text-align: right;\n",
       "    }\n",
       "</style>\n",
       "<table border=\"1\" class=\"dataframe\">\n",
       "  <thead>\n",
       "    <tr style=\"text-align: right;\">\n",
       "      <th></th>\n",
       "      <th>country</th>\n",
       "      <th>1990</th>\n",
       "      <th>1991</th>\n",
       "      <th>1992</th>\n",
       "      <th>1993</th>\n",
       "      <th>1994</th>\n",
       "      <th>1995</th>\n",
       "      <th>1996</th>\n",
       "      <th>1997</th>\n",
       "      <th>1998</th>\n",
       "      <th>...</th>\n",
       "      <th>2006</th>\n",
       "      <th>2007</th>\n",
       "      <th>2008</th>\n",
       "      <th>2009</th>\n",
       "      <th>2010</th>\n",
       "      <th>2011</th>\n",
       "      <th>2012</th>\n",
       "      <th>2013</th>\n",
       "      <th>2014</th>\n",
       "      <th>2015</th>\n",
       "    </tr>\n",
       "  </thead>\n",
       "  <tbody>\n",
       "    <tr>\n",
       "      <th>0</th>\n",
       "      <td>Australia</td>\n",
       "      <td>100</td>\n",
       "      <td>98.48</td>\n",
       "      <td>101.31</td>\n",
       "      <td>103.97</td>\n",
       "      <td>104.08</td>\n",
       "      <td>104.49</td>\n",
       "      <td>107.67</td>\n",
       "      <td>110.96</td>\n",
       "      <td>113.26</td>\n",
       "      <td>...</td>\n",
       "      <td>135.26</td>\n",
       "      <td>136.87</td>\n",
       "      <td>140.04</td>\n",
       "      <td>138.68</td>\n",
       "      <td>146.32</td>\n",
       "      <td>140.73</td>\n",
       "      <td>150.18</td>\n",
       "      <td>155.31</td>\n",
       "      <td>155.69</td>\n",
       "      <td>157.22</td>\n",
       "    </tr>\n",
       "    <tr>\n",
       "      <th>1</th>\n",
       "      <td>Austria</td>\n",
       "      <td>100</td>\n",
       "      <td>103.86</td>\n",
       "      <td>97.75</td>\n",
       "      <td>93.30</td>\n",
       "      <td>90.64</td>\n",
       "      <td>90.38</td>\n",
       "      <td>98.28</td>\n",
       "      <td>93.02</td>\n",
       "      <td>98.53</td>\n",
       "      <td>...</td>\n",
       "      <td>100.90</td>\n",
       "      <td>96.02</td>\n",
       "      <td>88.81</td>\n",
       "      <td>81.47</td>\n",
       "      <td>81.54</td>\n",
       "      <td>77.10</td>\n",
       "      <td>73.97</td>\n",
       "      <td>73.88</td>\n",
       "      <td>68.78</td>\n",
       "      <td>67.00</td>\n",
       "    </tr>\n",
       "    <tr>\n",
       "      <th>2</th>\n",
       "      <td>Belgium</td>\n",
       "      <td>100</td>\n",
       "      <td>97.39</td>\n",
       "      <td>94.71</td>\n",
       "      <td>93.28</td>\n",
       "      <td>93.26</td>\n",
       "      <td>92.91</td>\n",
       "      <td>90.30</td>\n",
       "      <td>87.44</td>\n",
       "      <td>88.35</td>\n",
       "      <td>...</td>\n",
       "      <td>73.47</td>\n",
       "      <td>71.07</td>\n",
       "      <td>64.46</td>\n",
       "      <td>57.88</td>\n",
       "      <td>58.90</td>\n",
       "      <td>54.70</td>\n",
       "      <td>51.37</td>\n",
       "      <td>49.35</td>\n",
       "      <td>47.74</td>\n",
       "      <td>46.94</td>\n",
       "    </tr>\n",
       "    <tr>\n",
       "      <th>3</th>\n",
       "      <td>Canada</td>\n",
       "      <td>100</td>\n",
       "      <td>95.56</td>\n",
       "      <td>98.46</td>\n",
       "      <td>100.23</td>\n",
       "      <td>104.92</td>\n",
       "      <td>107.34</td>\n",
       "      <td>110.35</td>\n",
       "      <td>116.88</td>\n",
       "      <td>119.02</td>\n",
       "      <td>...</td>\n",
       "      <td>96.81</td>\n",
       "      <td>96.00</td>\n",
       "      <td>92.68</td>\n",
       "      <td>86.21</td>\n",
       "      <td>87.93</td>\n",
       "      <td>85.79</td>\n",
       "      <td>81.71</td>\n",
       "      <td>80.28</td>\n",
       "      <td>79.68</td>\n",
       "      <td>78.27</td>\n",
       "    </tr>\n",
       "    <tr>\n",
       "      <th>4</th>\n",
       "      <td>Czech Republic</td>\n",
       "      <td>100</td>\n",
       "      <td>98.00</td>\n",
       "      <td>94.73</td>\n",
       "      <td>92.63</td>\n",
       "      <td>59.70</td>\n",
       "      <td>56.67</td>\n",
       "      <td>59.17</td>\n",
       "      <td>62.41</td>\n",
       "      <td>55.19</td>\n",
       "      <td>...</td>\n",
       "      <td>36.65</td>\n",
       "      <td>36.25</td>\n",
       "      <td>33.65</td>\n",
       "      <td>31.02</td>\n",
       "      <td>29.68</td>\n",
       "      <td>27.86</td>\n",
       "      <td>26.04</td>\n",
       "      <td>24.15</td>\n",
       "      <td>22.95</td>\n",
       "      <td>22.26</td>\n",
       "    </tr>\n",
       "  </tbody>\n",
       "</table>\n",
       "<p>5 rows × 27 columns</p>\n",
       "</div>"
      ],
      "text/plain": [
       "          country  1990    1991    1992    1993    1994    1995    1996  \\\n",
       "0       Australia   100   98.48  101.31  103.97  104.08  104.49  107.67   \n",
       "1         Austria   100  103.86   97.75   93.30   90.64   90.38   98.28   \n",
       "2         Belgium   100   97.39   94.71   93.28   93.26   92.91   90.30   \n",
       "3          Canada   100   95.56   98.46  100.23  104.92  107.34  110.35   \n",
       "4  Czech Republic   100   98.00   94.73   92.63   59.70   56.67   59.17   \n",
       "\n",
       "     1997    1998   ...      2006    2007    2008    2009    2010    2011  \\\n",
       "0  110.96  113.26   ...    135.26  136.87  140.04  138.68  146.32  140.73   \n",
       "1   93.02   98.53   ...    100.90   96.02   88.81   81.47   81.54   77.10   \n",
       "2   87.44   88.35   ...     73.47   71.07   64.46   57.88   58.90   54.70   \n",
       "3  116.88  119.02   ...     96.81   96.00   92.68   86.21   87.93   85.79   \n",
       "4   62.41   55.19   ...     36.65   36.25   33.65   31.02   29.68   27.86   \n",
       "\n",
       "     2012    2013    2014    2015  \n",
       "0  150.18  155.31  155.69  157.22  \n",
       "1   73.97   73.88   68.78   67.00  \n",
       "2   51.37   49.35   47.74   46.94  \n",
       "3   81.71   80.28   79.68   78.27  \n",
       "4   26.04   24.15   22.95   22.26  \n",
       "\n",
       "[5 rows x 27 columns]"
      ]
     },
     "execution_count": 117,
     "metadata": {},
     "output_type": "execute_result"
    }
   ],
   "source": [
    "import pandas as pd\n",
    "df=pd.read_csv(\"Industrial_emission_index.csv\")\n",
    "df.head()"
   ]
  },
  {
   "cell_type": "code",
   "execution_count": 118,
   "metadata": {},
   "outputs": [
    {
     "data": {
      "text/plain": [
       "RangeIndex(start=0, stop=33, step=1)"
      ]
     },
     "execution_count": 118,
     "metadata": {},
     "output_type": "execute_result"
    }
   ],
   "source": [
    "df.index"
   ]
  },
  {
   "cell_type": "code",
   "execution_count": 119,
   "metadata": {},
   "outputs": [
    {
     "data": {
      "text/plain": [
       "Index(['country', '1990', '1991', '1992', '1993', '1994', '1995', '1996',\n",
       "       '1997', '1998', '1999', '2000', '2001', '2002', '2003', '2004', '2005',\n",
       "       '2006', '2007', '2008', '2009', '2010', '2011', '2012', '2013', '2014',\n",
       "       '2015'],\n",
       "      dtype='object')"
      ]
     },
     "execution_count": 119,
     "metadata": {},
     "output_type": "execute_result"
    }
   ],
   "source": [
    "df.columns"
   ]
  },
  {
   "cell_type": "code",
   "execution_count": 122,
   "metadata": {},
   "outputs": [
    {
     "data": {
      "text/html": [
       "<div>\n",
       "<style scoped>\n",
       "    .dataframe tbody tr th:only-of-type {\n",
       "        vertical-align: middle;\n",
       "    }\n",
       "\n",
       "    .dataframe tbody tr th {\n",
       "        vertical-align: top;\n",
       "    }\n",
       "\n",
       "    .dataframe thead th {\n",
       "        text-align: right;\n",
       "    }\n",
       "</style>\n",
       "<table border=\"1\" class=\"dataframe\">\n",
       "  <thead>\n",
       "    <tr style=\"text-align: right;\">\n",
       "      <th></th>\n",
       "      <th>1990</th>\n",
       "      <th>1991</th>\n",
       "      <th>1992</th>\n",
       "      <th>1993</th>\n",
       "      <th>1994</th>\n",
       "      <th>1995</th>\n",
       "      <th>1996</th>\n",
       "      <th>1997</th>\n",
       "      <th>1998</th>\n",
       "      <th>1999</th>\n",
       "      <th>...</th>\n",
       "      <th>2006</th>\n",
       "      <th>2007</th>\n",
       "      <th>2008</th>\n",
       "      <th>2009</th>\n",
       "      <th>2010</th>\n",
       "      <th>2011</th>\n",
       "      <th>2012</th>\n",
       "      <th>2013</th>\n",
       "      <th>2014</th>\n",
       "      <th>2015</th>\n",
       "    </tr>\n",
       "    <tr>\n",
       "      <th>country</th>\n",
       "      <th></th>\n",
       "      <th></th>\n",
       "      <th></th>\n",
       "      <th></th>\n",
       "      <th></th>\n",
       "      <th></th>\n",
       "      <th></th>\n",
       "      <th></th>\n",
       "      <th></th>\n",
       "      <th></th>\n",
       "      <th></th>\n",
       "      <th></th>\n",
       "      <th></th>\n",
       "      <th></th>\n",
       "      <th></th>\n",
       "      <th></th>\n",
       "      <th></th>\n",
       "      <th></th>\n",
       "      <th></th>\n",
       "      <th></th>\n",
       "      <th></th>\n",
       "    </tr>\n",
       "  </thead>\n",
       "  <tbody>\n",
       "    <tr>\n",
       "      <th>Australia</th>\n",
       "      <td>100</td>\n",
       "      <td>98.48</td>\n",
       "      <td>101.31</td>\n",
       "      <td>103.97</td>\n",
       "      <td>104.08</td>\n",
       "      <td>104.49</td>\n",
       "      <td>107.67</td>\n",
       "      <td>110.96</td>\n",
       "      <td>113.26</td>\n",
       "      <td>115.11</td>\n",
       "      <td>...</td>\n",
       "      <td>135.26</td>\n",
       "      <td>136.87</td>\n",
       "      <td>140.04</td>\n",
       "      <td>138.68</td>\n",
       "      <td>146.32</td>\n",
       "      <td>140.73</td>\n",
       "      <td>150.18</td>\n",
       "      <td>155.31</td>\n",
       "      <td>155.69</td>\n",
       "      <td>157.22</td>\n",
       "    </tr>\n",
       "    <tr>\n",
       "      <th>Austria</th>\n",
       "      <td>100</td>\n",
       "      <td>103.86</td>\n",
       "      <td>97.75</td>\n",
       "      <td>93.30</td>\n",
       "      <td>90.64</td>\n",
       "      <td>90.38</td>\n",
       "      <td>98.28</td>\n",
       "      <td>93.02</td>\n",
       "      <td>98.53</td>\n",
       "      <td>94.67</td>\n",
       "      <td>...</td>\n",
       "      <td>100.90</td>\n",
       "      <td>96.02</td>\n",
       "      <td>88.81</td>\n",
       "      <td>81.47</td>\n",
       "      <td>81.54</td>\n",
       "      <td>77.10</td>\n",
       "      <td>73.97</td>\n",
       "      <td>73.88</td>\n",
       "      <td>68.78</td>\n",
       "      <td>67.00</td>\n",
       "    </tr>\n",
       "    <tr>\n",
       "      <th>Belgium</th>\n",
       "      <td>100</td>\n",
       "      <td>97.39</td>\n",
       "      <td>94.71</td>\n",
       "      <td>93.28</td>\n",
       "      <td>93.26</td>\n",
       "      <td>92.91</td>\n",
       "      <td>90.30</td>\n",
       "      <td>87.44</td>\n",
       "      <td>88.35</td>\n",
       "      <td>82.21</td>\n",
       "      <td>...</td>\n",
       "      <td>73.47</td>\n",
       "      <td>71.07</td>\n",
       "      <td>64.46</td>\n",
       "      <td>57.88</td>\n",
       "      <td>58.90</td>\n",
       "      <td>54.70</td>\n",
       "      <td>51.37</td>\n",
       "      <td>49.35</td>\n",
       "      <td>47.74</td>\n",
       "      <td>46.94</td>\n",
       "    </tr>\n",
       "    <tr>\n",
       "      <th>Canada</th>\n",
       "      <td>100</td>\n",
       "      <td>95.56</td>\n",
       "      <td>98.46</td>\n",
       "      <td>100.23</td>\n",
       "      <td>104.92</td>\n",
       "      <td>107.34</td>\n",
       "      <td>110.35</td>\n",
       "      <td>116.88</td>\n",
       "      <td>119.02</td>\n",
       "      <td>121.55</td>\n",
       "      <td>...</td>\n",
       "      <td>96.81</td>\n",
       "      <td>96.00</td>\n",
       "      <td>92.68</td>\n",
       "      <td>86.21</td>\n",
       "      <td>87.93</td>\n",
       "      <td>85.79</td>\n",
       "      <td>81.71</td>\n",
       "      <td>80.28</td>\n",
       "      <td>79.68</td>\n",
       "      <td>78.27</td>\n",
       "    </tr>\n",
       "    <tr>\n",
       "      <th>Czech Republic</th>\n",
       "      <td>100</td>\n",
       "      <td>98.00</td>\n",
       "      <td>94.73</td>\n",
       "      <td>92.63</td>\n",
       "      <td>59.70</td>\n",
       "      <td>56.67</td>\n",
       "      <td>59.17</td>\n",
       "      <td>62.41</td>\n",
       "      <td>55.19</td>\n",
       "      <td>50.72</td>\n",
       "      <td>...</td>\n",
       "      <td>36.65</td>\n",
       "      <td>36.25</td>\n",
       "      <td>33.65</td>\n",
       "      <td>31.02</td>\n",
       "      <td>29.68</td>\n",
       "      <td>27.86</td>\n",
       "      <td>26.04</td>\n",
       "      <td>24.15</td>\n",
       "      <td>22.95</td>\n",
       "      <td>22.26</td>\n",
       "    </tr>\n",
       "  </tbody>\n",
       "</table>\n",
       "<p>5 rows × 26 columns</p>\n",
       "</div>"
      ],
      "text/plain": [
       "                1990    1991    1992    1993    1994    1995    1996    1997  \\\n",
       "country                                                                        \n",
       "Australia        100   98.48  101.31  103.97  104.08  104.49  107.67  110.96   \n",
       "Austria          100  103.86   97.75   93.30   90.64   90.38   98.28   93.02   \n",
       "Belgium          100   97.39   94.71   93.28   93.26   92.91   90.30   87.44   \n",
       "Canada           100   95.56   98.46  100.23  104.92  107.34  110.35  116.88   \n",
       "Czech Republic   100   98.00   94.73   92.63   59.70   56.67   59.17   62.41   \n",
       "\n",
       "                  1998    1999   ...      2006    2007    2008    2009  \\\n",
       "country                          ...                                     \n",
       "Australia       113.26  115.11   ...    135.26  136.87  140.04  138.68   \n",
       "Austria          98.53   94.67   ...    100.90   96.02   88.81   81.47   \n",
       "Belgium          88.35   82.21   ...     73.47   71.07   64.46   57.88   \n",
       "Canada          119.02  121.55   ...     96.81   96.00   92.68   86.21   \n",
       "Czech Republic   55.19   50.72   ...     36.65   36.25   33.65   31.02   \n",
       "\n",
       "                  2010    2011    2012    2013    2014    2015  \n",
       "country                                                         \n",
       "Australia       146.32  140.73  150.18  155.31  155.69  157.22  \n",
       "Austria          81.54   77.10   73.97   73.88   68.78   67.00  \n",
       "Belgium          58.90   54.70   51.37   49.35   47.74   46.94  \n",
       "Canada           87.93   85.79   81.71   80.28   79.68   78.27  \n",
       "Czech Republic   29.68   27.86   26.04   24.15   22.95   22.26  \n",
       "\n",
       "[5 rows x 26 columns]"
      ]
     },
     "execution_count": 122,
     "metadata": {},
     "output_type": "execute_result"
    }
   ],
   "source": [
    "dfa = df.set_index(\"country\")\n",
    "dfa.head()"
   ]
  },
  {
   "cell_type": "code",
   "execution_count": 124,
   "metadata": {},
   "outputs": [
    {
     "data": {
      "text/plain": [
       "Index(['Australia', 'Austria', 'Belgium', 'Canada', 'Czech Republic',\n",
       "       'Denmark', 'Estonia', 'Europe', 'Finland', 'France', 'Germany',\n",
       "       'Greece', 'Hungary', 'Iceland', 'Ireland', 'Italy', 'Japan', 'Latvia',\n",
       "       'Luxembourg', 'Netherlands', 'New Zealand', 'Norway', 'OECD - Total',\n",
       "       'Poland', 'Portugal', 'Slovakia', 'Slovenia', 'Spain', 'Sweden',\n",
       "       'Switzerland', 'Turkey', 'United Kingdom', 'United States'],\n",
       "      dtype='object', name='country')"
      ]
     },
     "execution_count": 124,
     "metadata": {},
     "output_type": "execute_result"
    }
   ],
   "source": [
    "dfa.index"
   ]
  },
  {
   "cell_type": "code",
   "execution_count": 125,
   "metadata": {},
   "outputs": [
    {
     "data": {
      "text/plain": [
       "Index(['1990', '1991', '1992', '1993', '1994', '1995', '1996', '1997', '1998',\n",
       "       '1999', '2000', '2001', '2002', '2003', '2004', '2005', '2006', '2007',\n",
       "       '2008', '2009', '2010', '2011', '2012', '2013', '2014', '2015'],\n",
       "      dtype='object')"
      ]
     },
     "execution_count": 125,
     "metadata": {},
     "output_type": "execute_result"
    }
   ],
   "source": [
    "dfa.columns"
   ]
  },
  {
   "cell_type": "code",
   "execution_count": 139,
   "metadata": {},
   "outputs": [
    {
     "data": {
      "text/plain": [
       "[1990,\n",
       " 1991,\n",
       " 1992,\n",
       " 1993,\n",
       " 1994,\n",
       " 1995,\n",
       " 1996,\n",
       " 1997,\n",
       " 1998,\n",
       " 1999,\n",
       " 2000,\n",
       " 2001,\n",
       " 2002,\n",
       " 2003,\n",
       " 2004,\n",
       " 2005,\n",
       " 2006,\n",
       " 2007,\n",
       " 2008,\n",
       " 2009,\n",
       " 2010,\n",
       " 2011,\n",
       " 2012,\n",
       " 2013,\n",
       " 2014,\n",
       " 2015]"
      ]
     },
     "execution_count": 139,
     "metadata": {},
     "output_type": "execute_result"
    }
   ],
   "source": [
    "[int(x) for x in dfa.columns]"
   ]
  },
  {
   "cell_type": "code",
   "execution_count": 140,
   "metadata": {},
   "outputs": [
    {
     "data": {
      "text/plain": [
       "1990    100.00\n",
       "1991     98.48\n",
       "1992    101.31\n",
       "1993    103.97\n",
       "1994    104.08\n",
       "1995    104.49\n",
       "1996    107.67\n",
       "1997    110.96\n",
       "1998    113.26\n",
       "1999    115.11\n",
       "2000    115.82\n",
       "2001    121.16\n",
       "2002    125.58\n",
       "2003    130.49\n",
       "2004    133.67\n",
       "2005    135.24\n",
       "2006    135.26\n",
       "2007    136.87\n",
       "2008    140.04\n",
       "2009    138.68\n",
       "2010    146.32\n",
       "2011    140.73\n",
       "2012    150.18\n",
       "2013    155.31\n",
       "2014    155.69\n",
       "2015    157.22\n",
       "Name: Australia, dtype: float64"
      ]
     },
     "execution_count": 140,
     "metadata": {},
     "output_type": "execute_result"
    }
   ],
   "source": [
    "dfa.loc[\"Australia\",:]"
   ]
  },
  {
   "cell_type": "code",
   "execution_count": 141,
   "metadata": {},
   "outputs": [
    {
     "data": {
      "text/plain": [
       "'Australia'"
      ]
     },
     "execution_count": 141,
     "metadata": {},
     "output_type": "execute_result"
    }
   ],
   "source": [
    "dfa.loc[\"Australia\",:].name"
   ]
  },
  {
   "cell_type": "code",
   "execution_count": 142,
   "metadata": {},
   "outputs": [
    {
     "data": {
      "text/plain": [
       "array([100.  ,  98.48, 101.31, 103.97, 104.08, 104.49, 107.67, 110.96,\n",
       "       113.26, 115.11, 115.82, 121.16, 125.58, 130.49, 133.67, 135.24,\n",
       "       135.26, 136.87, 140.04, 138.68, 146.32, 140.73, 150.18, 155.31,\n",
       "       155.69, 157.22])"
      ]
     },
     "execution_count": 142,
     "metadata": {},
     "output_type": "execute_result"
    }
   ],
   "source": [
    "dfa.loc[\"Australia\",:].values"
   ]
  },
  {
   "cell_type": "code",
   "execution_count": 143,
   "metadata": {},
   "outputs": [
    {
     "data": {
      "text/plain": [
       "Index(['1990', '1991', '1992', '1993', '1994', '1995', '1996', '1997', '1998',\n",
       "       '1999', '2000', '2001', '2002', '2003', '2004', '2005', '2006', '2007',\n",
       "       '2008', '2009', '2010', '2011', '2012', '2013', '2014', '2015'],\n",
       "      dtype='object')"
      ]
     },
     "execution_count": 143,
     "metadata": {},
     "output_type": "execute_result"
    }
   ],
   "source": [
    "dfa.loc[\"Australia\",:].index"
   ]
  },
  {
   "cell_type": "code",
   "execution_count": 151,
   "metadata": {},
   "outputs": [],
   "source": [
    "import plotly as py\n",
    "from plotly.graph_objs import Scatter,Layout\n",
    "\n",
    "澳大利亚 = Scatter(\n",
    "    x=[int(x) for x in dfa.columns],\n",
    "    y=dfa.loc[\"Australia\",:].values\n",
    ")"
   ]
  },
  {
   "cell_type": "code",
   "execution_count": 152,
   "metadata": {},
   "outputs": [
    {
     "data": {
      "application/vnd.plotly.v1+json": {
       "config": {
        "linkText": "Export to plot.ly",
        "plotlyServerURL": "https://plot.ly",
        "showLink": false
       },
       "data": [
        {
         "type": "scatter",
         "x": [
          1990,
          1991,
          1992,
          1993,
          1994,
          1995,
          1996,
          1997,
          1998,
          1999,
          2000,
          2001,
          2002,
          2003,
          2004,
          2005,
          2006,
          2007,
          2008,
          2009,
          2010,
          2011,
          2012,
          2013,
          2014,
          2015
         ],
         "y": [
          100,
          98.48,
          101.31,
          103.97,
          104.08,
          104.49,
          107.67,
          110.96,
          113.26,
          115.11,
          115.82,
          121.16,
          125.58,
          130.49,
          133.67,
          135.24,
          135.26,
          136.87,
          140.04,
          138.68,
          146.32,
          140.73,
          150.18,
          155.31,
          155.69,
          157.22
         ]
        }
       ],
       "layout": {
        "template": {
         "data": {
          "bar": [
           {
            "error_x": {
             "color": "#2a3f5f"
            },
            "error_y": {
             "color": "#2a3f5f"
            },
            "marker": {
             "line": {
              "color": "#E5ECF6",
              "width": 0.5
             }
            },
            "type": "bar"
           }
          ],
          "barpolar": [
           {
            "marker": {
             "line": {
              "color": "#E5ECF6",
              "width": 0.5
             }
            },
            "type": "barpolar"
           }
          ],
          "carpet": [
           {
            "aaxis": {
             "endlinecolor": "#2a3f5f",
             "gridcolor": "white",
             "linecolor": "white",
             "minorgridcolor": "white",
             "startlinecolor": "#2a3f5f"
            },
            "baxis": {
             "endlinecolor": "#2a3f5f",
             "gridcolor": "white",
             "linecolor": "white",
             "minorgridcolor": "white",
             "startlinecolor": "#2a3f5f"
            },
            "type": "carpet"
           }
          ],
          "choropleth": [
           {
            "colorbar": {
             "outlinewidth": 0,
             "ticks": ""
            },
            "type": "choropleth"
           }
          ],
          "contour": [
           {
            "colorbar": {
             "outlinewidth": 0,
             "ticks": ""
            },
            "colorscale": [
             [
              0,
              "#0d0887"
             ],
             [
              0.1111111111111111,
              "#46039f"
             ],
             [
              0.2222222222222222,
              "#7201a8"
             ],
             [
              0.3333333333333333,
              "#9c179e"
             ],
             [
              0.4444444444444444,
              "#bd3786"
             ],
             [
              0.5555555555555556,
              "#d8576b"
             ],
             [
              0.6666666666666666,
              "#ed7953"
             ],
             [
              0.7777777777777778,
              "#fb9f3a"
             ],
             [
              0.8888888888888888,
              "#fdca26"
             ],
             [
              1,
              "#f0f921"
             ]
            ],
            "type": "contour"
           }
          ],
          "contourcarpet": [
           {
            "colorbar": {
             "outlinewidth": 0,
             "ticks": ""
            },
            "type": "contourcarpet"
           }
          ],
          "heatmap": [
           {
            "colorbar": {
             "outlinewidth": 0,
             "ticks": ""
            },
            "colorscale": [
             [
              0,
              "#0d0887"
             ],
             [
              0.1111111111111111,
              "#46039f"
             ],
             [
              0.2222222222222222,
              "#7201a8"
             ],
             [
              0.3333333333333333,
              "#9c179e"
             ],
             [
              0.4444444444444444,
              "#bd3786"
             ],
             [
              0.5555555555555556,
              "#d8576b"
             ],
             [
              0.6666666666666666,
              "#ed7953"
             ],
             [
              0.7777777777777778,
              "#fb9f3a"
             ],
             [
              0.8888888888888888,
              "#fdca26"
             ],
             [
              1,
              "#f0f921"
             ]
            ],
            "type": "heatmap"
           }
          ],
          "heatmapgl": [
           {
            "colorbar": {
             "outlinewidth": 0,
             "ticks": ""
            },
            "colorscale": [
             [
              0,
              "#0d0887"
             ],
             [
              0.1111111111111111,
              "#46039f"
             ],
             [
              0.2222222222222222,
              "#7201a8"
             ],
             [
              0.3333333333333333,
              "#9c179e"
             ],
             [
              0.4444444444444444,
              "#bd3786"
             ],
             [
              0.5555555555555556,
              "#d8576b"
             ],
             [
              0.6666666666666666,
              "#ed7953"
             ],
             [
              0.7777777777777778,
              "#fb9f3a"
             ],
             [
              0.8888888888888888,
              "#fdca26"
             ],
             [
              1,
              "#f0f921"
             ]
            ],
            "type": "heatmapgl"
           }
          ],
          "histogram": [
           {
            "marker": {
             "colorbar": {
              "outlinewidth": 0,
              "ticks": ""
             }
            },
            "type": "histogram"
           }
          ],
          "histogram2d": [
           {
            "colorbar": {
             "outlinewidth": 0,
             "ticks": ""
            },
            "colorscale": [
             [
              0,
              "#0d0887"
             ],
             [
              0.1111111111111111,
              "#46039f"
             ],
             [
              0.2222222222222222,
              "#7201a8"
             ],
             [
              0.3333333333333333,
              "#9c179e"
             ],
             [
              0.4444444444444444,
              "#bd3786"
             ],
             [
              0.5555555555555556,
              "#d8576b"
             ],
             [
              0.6666666666666666,
              "#ed7953"
             ],
             [
              0.7777777777777778,
              "#fb9f3a"
             ],
             [
              0.8888888888888888,
              "#fdca26"
             ],
             [
              1,
              "#f0f921"
             ]
            ],
            "type": "histogram2d"
           }
          ],
          "histogram2dcontour": [
           {
            "colorbar": {
             "outlinewidth": 0,
             "ticks": ""
            },
            "colorscale": [
             [
              0,
              "#0d0887"
             ],
             [
              0.1111111111111111,
              "#46039f"
             ],
             [
              0.2222222222222222,
              "#7201a8"
             ],
             [
              0.3333333333333333,
              "#9c179e"
             ],
             [
              0.4444444444444444,
              "#bd3786"
             ],
             [
              0.5555555555555556,
              "#d8576b"
             ],
             [
              0.6666666666666666,
              "#ed7953"
             ],
             [
              0.7777777777777778,
              "#fb9f3a"
             ],
             [
              0.8888888888888888,
              "#fdca26"
             ],
             [
              1,
              "#f0f921"
             ]
            ],
            "type": "histogram2dcontour"
           }
          ],
          "mesh3d": [
           {
            "colorbar": {
             "outlinewidth": 0,
             "ticks": ""
            },
            "type": "mesh3d"
           }
          ],
          "parcoords": [
           {
            "line": {
             "colorbar": {
              "outlinewidth": 0,
              "ticks": ""
             }
            },
            "type": "parcoords"
           }
          ],
          "pie": [
           {
            "automargin": true,
            "type": "pie"
           }
          ],
          "scatter": [
           {
            "marker": {
             "colorbar": {
              "outlinewidth": 0,
              "ticks": ""
             }
            },
            "type": "scatter"
           }
          ],
          "scatter3d": [
           {
            "line": {
             "colorbar": {
              "outlinewidth": 0,
              "ticks": ""
             }
            },
            "marker": {
             "colorbar": {
              "outlinewidth": 0,
              "ticks": ""
             }
            },
            "type": "scatter3d"
           }
          ],
          "scattercarpet": [
           {
            "marker": {
             "colorbar": {
              "outlinewidth": 0,
              "ticks": ""
             }
            },
            "type": "scattercarpet"
           }
          ],
          "scattergeo": [
           {
            "marker": {
             "colorbar": {
              "outlinewidth": 0,
              "ticks": ""
             }
            },
            "type": "scattergeo"
           }
          ],
          "scattergl": [
           {
            "marker": {
             "colorbar": {
              "outlinewidth": 0,
              "ticks": ""
             }
            },
            "type": "scattergl"
           }
          ],
          "scattermapbox": [
           {
            "marker": {
             "colorbar": {
              "outlinewidth": 0,
              "ticks": ""
             }
            },
            "type": "scattermapbox"
           }
          ],
          "scatterpolar": [
           {
            "marker": {
             "colorbar": {
              "outlinewidth": 0,
              "ticks": ""
             }
            },
            "type": "scatterpolar"
           }
          ],
          "scatterpolargl": [
           {
            "marker": {
             "colorbar": {
              "outlinewidth": 0,
              "ticks": ""
             }
            },
            "type": "scatterpolargl"
           }
          ],
          "scatterternary": [
           {
            "marker": {
             "colorbar": {
              "outlinewidth": 0,
              "ticks": ""
             }
            },
            "type": "scatterternary"
           }
          ],
          "surface": [
           {
            "colorbar": {
             "outlinewidth": 0,
             "ticks": ""
            },
            "colorscale": [
             [
              0,
              "#0d0887"
             ],
             [
              0.1111111111111111,
              "#46039f"
             ],
             [
              0.2222222222222222,
              "#7201a8"
             ],
             [
              0.3333333333333333,
              "#9c179e"
             ],
             [
              0.4444444444444444,
              "#bd3786"
             ],
             [
              0.5555555555555556,
              "#d8576b"
             ],
             [
              0.6666666666666666,
              "#ed7953"
             ],
             [
              0.7777777777777778,
              "#fb9f3a"
             ],
             [
              0.8888888888888888,
              "#fdca26"
             ],
             [
              1,
              "#f0f921"
             ]
            ],
            "type": "surface"
           }
          ],
          "table": [
           {
            "cells": {
             "fill": {
              "color": "#EBF0F8"
             },
             "line": {
              "color": "white"
             }
            },
            "header": {
             "fill": {
              "color": "#C8D4E3"
             },
             "line": {
              "color": "white"
             }
            },
            "type": "table"
           }
          ]
         },
         "layout": {
          "annotationdefaults": {
           "arrowcolor": "#2a3f5f",
           "arrowhead": 0,
           "arrowwidth": 1
          },
          "coloraxis": {
           "colorbar": {
            "outlinewidth": 0,
            "ticks": ""
           }
          },
          "colorscale": {
           "diverging": [
            [
             0,
             "#8e0152"
            ],
            [
             0.1,
             "#c51b7d"
            ],
            [
             0.2,
             "#de77ae"
            ],
            [
             0.3,
             "#f1b6da"
            ],
            [
             0.4,
             "#fde0ef"
            ],
            [
             0.5,
             "#f7f7f7"
            ],
            [
             0.6,
             "#e6f5d0"
            ],
            [
             0.7,
             "#b8e186"
            ],
            [
             0.8,
             "#7fbc41"
            ],
            [
             0.9,
             "#4d9221"
            ],
            [
             1,
             "#276419"
            ]
           ],
           "sequential": [
            [
             0,
             "#0d0887"
            ],
            [
             0.1111111111111111,
             "#46039f"
            ],
            [
             0.2222222222222222,
             "#7201a8"
            ],
            [
             0.3333333333333333,
             "#9c179e"
            ],
            [
             0.4444444444444444,
             "#bd3786"
            ],
            [
             0.5555555555555556,
             "#d8576b"
            ],
            [
             0.6666666666666666,
             "#ed7953"
            ],
            [
             0.7777777777777778,
             "#fb9f3a"
            ],
            [
             0.8888888888888888,
             "#fdca26"
            ],
            [
             1,
             "#f0f921"
            ]
           ],
           "sequentialminus": [
            [
             0,
             "#0d0887"
            ],
            [
             0.1111111111111111,
             "#46039f"
            ],
            [
             0.2222222222222222,
             "#7201a8"
            ],
            [
             0.3333333333333333,
             "#9c179e"
            ],
            [
             0.4444444444444444,
             "#bd3786"
            ],
            [
             0.5555555555555556,
             "#d8576b"
            ],
            [
             0.6666666666666666,
             "#ed7953"
            ],
            [
             0.7777777777777778,
             "#fb9f3a"
            ],
            [
             0.8888888888888888,
             "#fdca26"
            ],
            [
             1,
             "#f0f921"
            ]
           ]
          },
          "colorway": [
           "#636efa",
           "#EF553B",
           "#00cc96",
           "#ab63fa",
           "#FFA15A",
           "#19d3f3",
           "#FF6692",
           "#B6E880",
           "#FF97FF",
           "#FECB52"
          ],
          "font": {
           "color": "#2a3f5f"
          },
          "geo": {
           "bgcolor": "white",
           "lakecolor": "white",
           "landcolor": "#E5ECF6",
           "showlakes": true,
           "showland": true,
           "subunitcolor": "white"
          },
          "hoverlabel": {
           "align": "left"
          },
          "hovermode": "closest",
          "mapbox": {
           "style": "light"
          },
          "paper_bgcolor": "white",
          "plot_bgcolor": "#E5ECF6",
          "polar": {
           "angularaxis": {
            "gridcolor": "white",
            "linecolor": "white",
            "ticks": ""
           },
           "bgcolor": "#E5ECF6",
           "radialaxis": {
            "gridcolor": "white",
            "linecolor": "white",
            "ticks": ""
           }
          },
          "scene": {
           "xaxis": {
            "backgroundcolor": "#E5ECF6",
            "gridcolor": "white",
            "gridwidth": 2,
            "linecolor": "white",
            "showbackground": true,
            "ticks": "",
            "zerolinecolor": "white"
           },
           "yaxis": {
            "backgroundcolor": "#E5ECF6",
            "gridcolor": "white",
            "gridwidth": 2,
            "linecolor": "white",
            "showbackground": true,
            "ticks": "",
            "zerolinecolor": "white"
           },
           "zaxis": {
            "backgroundcolor": "#E5ECF6",
            "gridcolor": "white",
            "gridwidth": 2,
            "linecolor": "white",
            "showbackground": true,
            "ticks": "",
            "zerolinecolor": "white"
           }
          },
          "shapedefaults": {
           "line": {
            "color": "#2a3f5f"
           }
          },
          "ternary": {
           "aaxis": {
            "gridcolor": "white",
            "linecolor": "white",
            "ticks": ""
           },
           "baxis": {
            "gridcolor": "white",
            "linecolor": "white",
            "ticks": ""
           },
           "bgcolor": "#E5ECF6",
           "caxis": {
            "gridcolor": "white",
            "linecolor": "white",
            "ticks": ""
           }
          },
          "title": {
           "x": 0.05
          },
          "xaxis": {
           "automargin": true,
           "gridcolor": "white",
           "linecolor": "white",
           "ticks": "",
           "title": {
            "standoff": 15
           },
           "zerolinecolor": "white",
           "zerolinewidth": 2
          },
          "yaxis": {
           "automargin": true,
           "gridcolor": "white",
           "linecolor": "white",
           "ticks": "",
           "title": {
            "standoff": 15
           },
           "zerolinecolor": "white",
           "zerolinewidth": 2
          }
         }
        }
       }
      },
      "text/html": [
       "<div>\n",
       "        \n",
       "        \n",
       "            <div id=\"2ca56efe-dd59-4471-ba5a-9d2b06552b39\" class=\"plotly-graph-div\" style=\"height:525px; width:100%;\"></div>\n",
       "            <script type=\"text/javascript\">\n",
       "                require([\"plotly\"], function(Plotly) {\n",
       "                    window.PLOTLYENV=window.PLOTLYENV || {};\n",
       "                    \n",
       "                if (document.getElementById(\"2ca56efe-dd59-4471-ba5a-9d2b06552b39\")) {\n",
       "                    Plotly.newPlot(\n",
       "                        '2ca56efe-dd59-4471-ba5a-9d2b06552b39',\n",
       "                        [{\"type\": \"scatter\", \"x\": [1990, 1991, 1992, 1993, 1994, 1995, 1996, 1997, 1998, 1999, 2000, 2001, 2002, 2003, 2004, 2005, 2006, 2007, 2008, 2009, 2010, 2011, 2012, 2013, 2014, 2015], \"y\": [100.0, 98.48, 101.31, 103.97, 104.08, 104.49, 107.67, 110.96, 113.26, 115.11, 115.82, 121.16, 125.58, 130.49, 133.67, 135.24, 135.26, 136.87, 140.04, 138.68, 146.32, 140.73, 150.18, 155.31, 155.69, 157.22]}],\n",
       "                        {\"template\": {\"data\": {\"bar\": [{\"error_x\": {\"color\": \"#2a3f5f\"}, \"error_y\": {\"color\": \"#2a3f5f\"}, \"marker\": {\"line\": {\"color\": \"#E5ECF6\", \"width\": 0.5}}, \"type\": \"bar\"}], \"barpolar\": [{\"marker\": {\"line\": {\"color\": \"#E5ECF6\", \"width\": 0.5}}, \"type\": \"barpolar\"}], \"carpet\": [{\"aaxis\": {\"endlinecolor\": \"#2a3f5f\", \"gridcolor\": \"white\", \"linecolor\": \"white\", \"minorgridcolor\": \"white\", \"startlinecolor\": \"#2a3f5f\"}, \"baxis\": {\"endlinecolor\": \"#2a3f5f\", \"gridcolor\": \"white\", \"linecolor\": \"white\", \"minorgridcolor\": \"white\", \"startlinecolor\": \"#2a3f5f\"}, \"type\": \"carpet\"}], \"choropleth\": [{\"colorbar\": {\"outlinewidth\": 0, \"ticks\": \"\"}, \"type\": \"choropleth\"}], \"contour\": [{\"colorbar\": {\"outlinewidth\": 0, \"ticks\": \"\"}, \"colorscale\": [[0.0, \"#0d0887\"], [0.1111111111111111, \"#46039f\"], [0.2222222222222222, \"#7201a8\"], [0.3333333333333333, \"#9c179e\"], [0.4444444444444444, \"#bd3786\"], [0.5555555555555556, \"#d8576b\"], [0.6666666666666666, \"#ed7953\"], [0.7777777777777778, \"#fb9f3a\"], [0.8888888888888888, \"#fdca26\"], [1.0, \"#f0f921\"]], \"type\": \"contour\"}], \"contourcarpet\": [{\"colorbar\": {\"outlinewidth\": 0, \"ticks\": \"\"}, \"type\": \"contourcarpet\"}], \"heatmap\": [{\"colorbar\": {\"outlinewidth\": 0, \"ticks\": \"\"}, \"colorscale\": [[0.0, \"#0d0887\"], [0.1111111111111111, \"#46039f\"], [0.2222222222222222, \"#7201a8\"], [0.3333333333333333, \"#9c179e\"], [0.4444444444444444, \"#bd3786\"], [0.5555555555555556, \"#d8576b\"], [0.6666666666666666, \"#ed7953\"], [0.7777777777777778, \"#fb9f3a\"], [0.8888888888888888, \"#fdca26\"], [1.0, \"#f0f921\"]], \"type\": \"heatmap\"}], \"heatmapgl\": [{\"colorbar\": {\"outlinewidth\": 0, \"ticks\": \"\"}, \"colorscale\": [[0.0, \"#0d0887\"], [0.1111111111111111, \"#46039f\"], [0.2222222222222222, \"#7201a8\"], [0.3333333333333333, \"#9c179e\"], [0.4444444444444444, \"#bd3786\"], [0.5555555555555556, \"#d8576b\"], [0.6666666666666666, \"#ed7953\"], [0.7777777777777778, \"#fb9f3a\"], [0.8888888888888888, \"#fdca26\"], [1.0, \"#f0f921\"]], \"type\": \"heatmapgl\"}], \"histogram\": [{\"marker\": {\"colorbar\": {\"outlinewidth\": 0, \"ticks\": \"\"}}, \"type\": \"histogram\"}], \"histogram2d\": [{\"colorbar\": {\"outlinewidth\": 0, \"ticks\": \"\"}, \"colorscale\": [[0.0, \"#0d0887\"], [0.1111111111111111, \"#46039f\"], [0.2222222222222222, \"#7201a8\"], [0.3333333333333333, \"#9c179e\"], [0.4444444444444444, \"#bd3786\"], [0.5555555555555556, \"#d8576b\"], [0.6666666666666666, \"#ed7953\"], [0.7777777777777778, \"#fb9f3a\"], [0.8888888888888888, \"#fdca26\"], [1.0, \"#f0f921\"]], \"type\": \"histogram2d\"}], \"histogram2dcontour\": [{\"colorbar\": {\"outlinewidth\": 0, \"ticks\": \"\"}, \"colorscale\": [[0.0, \"#0d0887\"], [0.1111111111111111, \"#46039f\"], [0.2222222222222222, \"#7201a8\"], [0.3333333333333333, \"#9c179e\"], [0.4444444444444444, \"#bd3786\"], [0.5555555555555556, \"#d8576b\"], [0.6666666666666666, \"#ed7953\"], [0.7777777777777778, \"#fb9f3a\"], [0.8888888888888888, \"#fdca26\"], [1.0, \"#f0f921\"]], \"type\": \"histogram2dcontour\"}], \"mesh3d\": [{\"colorbar\": {\"outlinewidth\": 0, \"ticks\": \"\"}, \"type\": \"mesh3d\"}], \"parcoords\": [{\"line\": {\"colorbar\": {\"outlinewidth\": 0, \"ticks\": \"\"}}, \"type\": \"parcoords\"}], \"pie\": [{\"automargin\": true, \"type\": \"pie\"}], \"scatter\": [{\"marker\": {\"colorbar\": {\"outlinewidth\": 0, \"ticks\": \"\"}}, \"type\": \"scatter\"}], \"scatter3d\": [{\"line\": {\"colorbar\": {\"outlinewidth\": 0, \"ticks\": \"\"}}, \"marker\": {\"colorbar\": {\"outlinewidth\": 0, \"ticks\": \"\"}}, \"type\": \"scatter3d\"}], \"scattercarpet\": [{\"marker\": {\"colorbar\": {\"outlinewidth\": 0, \"ticks\": \"\"}}, \"type\": \"scattercarpet\"}], \"scattergeo\": [{\"marker\": {\"colorbar\": {\"outlinewidth\": 0, \"ticks\": \"\"}}, \"type\": \"scattergeo\"}], \"scattergl\": [{\"marker\": {\"colorbar\": {\"outlinewidth\": 0, \"ticks\": \"\"}}, \"type\": \"scattergl\"}], \"scattermapbox\": [{\"marker\": {\"colorbar\": {\"outlinewidth\": 0, \"ticks\": \"\"}}, \"type\": \"scattermapbox\"}], \"scatterpolar\": [{\"marker\": {\"colorbar\": {\"outlinewidth\": 0, \"ticks\": \"\"}}, \"type\": \"scatterpolar\"}], \"scatterpolargl\": [{\"marker\": {\"colorbar\": {\"outlinewidth\": 0, \"ticks\": \"\"}}, \"type\": \"scatterpolargl\"}], \"scatterternary\": [{\"marker\": {\"colorbar\": {\"outlinewidth\": 0, \"ticks\": \"\"}}, \"type\": \"scatterternary\"}], \"surface\": [{\"colorbar\": {\"outlinewidth\": 0, \"ticks\": \"\"}, \"colorscale\": [[0.0, \"#0d0887\"], [0.1111111111111111, \"#46039f\"], [0.2222222222222222, \"#7201a8\"], [0.3333333333333333, \"#9c179e\"], [0.4444444444444444, \"#bd3786\"], [0.5555555555555556, \"#d8576b\"], [0.6666666666666666, \"#ed7953\"], [0.7777777777777778, \"#fb9f3a\"], [0.8888888888888888, \"#fdca26\"], [1.0, \"#f0f921\"]], \"type\": \"surface\"}], \"table\": [{\"cells\": {\"fill\": {\"color\": \"#EBF0F8\"}, \"line\": {\"color\": \"white\"}}, \"header\": {\"fill\": {\"color\": \"#C8D4E3\"}, \"line\": {\"color\": \"white\"}}, \"type\": \"table\"}]}, \"layout\": {\"annotationdefaults\": {\"arrowcolor\": \"#2a3f5f\", \"arrowhead\": 0, \"arrowwidth\": 1}, \"coloraxis\": {\"colorbar\": {\"outlinewidth\": 0, \"ticks\": \"\"}}, \"colorscale\": {\"diverging\": [[0, \"#8e0152\"], [0.1, \"#c51b7d\"], [0.2, \"#de77ae\"], [0.3, \"#f1b6da\"], [0.4, \"#fde0ef\"], [0.5, \"#f7f7f7\"], [0.6, \"#e6f5d0\"], [0.7, \"#b8e186\"], [0.8, \"#7fbc41\"], [0.9, \"#4d9221\"], [1, \"#276419\"]], \"sequential\": [[0.0, \"#0d0887\"], [0.1111111111111111, \"#46039f\"], [0.2222222222222222, \"#7201a8\"], [0.3333333333333333, \"#9c179e\"], [0.4444444444444444, \"#bd3786\"], [0.5555555555555556, \"#d8576b\"], [0.6666666666666666, \"#ed7953\"], [0.7777777777777778, \"#fb9f3a\"], [0.8888888888888888, \"#fdca26\"], [1.0, \"#f0f921\"]], \"sequentialminus\": [[0.0, \"#0d0887\"], [0.1111111111111111, \"#46039f\"], [0.2222222222222222, \"#7201a8\"], [0.3333333333333333, \"#9c179e\"], [0.4444444444444444, \"#bd3786\"], [0.5555555555555556, \"#d8576b\"], [0.6666666666666666, \"#ed7953\"], [0.7777777777777778, \"#fb9f3a\"], [0.8888888888888888, \"#fdca26\"], [1.0, \"#f0f921\"]]}, \"colorway\": [\"#636efa\", \"#EF553B\", \"#00cc96\", \"#ab63fa\", \"#FFA15A\", \"#19d3f3\", \"#FF6692\", \"#B6E880\", \"#FF97FF\", \"#FECB52\"], \"font\": {\"color\": \"#2a3f5f\"}, \"geo\": {\"bgcolor\": \"white\", \"lakecolor\": \"white\", \"landcolor\": \"#E5ECF6\", \"showlakes\": true, \"showland\": true, \"subunitcolor\": \"white\"}, \"hoverlabel\": {\"align\": \"left\"}, \"hovermode\": \"closest\", \"mapbox\": {\"style\": \"light\"}, \"paper_bgcolor\": \"white\", \"plot_bgcolor\": \"#E5ECF6\", \"polar\": {\"angularaxis\": {\"gridcolor\": \"white\", \"linecolor\": \"white\", \"ticks\": \"\"}, \"bgcolor\": \"#E5ECF6\", \"radialaxis\": {\"gridcolor\": \"white\", \"linecolor\": \"white\", \"ticks\": \"\"}}, \"scene\": {\"xaxis\": {\"backgroundcolor\": \"#E5ECF6\", \"gridcolor\": \"white\", \"gridwidth\": 2, \"linecolor\": \"white\", \"showbackground\": true, \"ticks\": \"\", \"zerolinecolor\": \"white\"}, \"yaxis\": {\"backgroundcolor\": \"#E5ECF6\", \"gridcolor\": \"white\", \"gridwidth\": 2, \"linecolor\": \"white\", \"showbackground\": true, \"ticks\": \"\", \"zerolinecolor\": \"white\"}, \"zaxis\": {\"backgroundcolor\": \"#E5ECF6\", \"gridcolor\": \"white\", \"gridwidth\": 2, \"linecolor\": \"white\", \"showbackground\": true, \"ticks\": \"\", \"zerolinecolor\": \"white\"}}, \"shapedefaults\": {\"line\": {\"color\": \"#2a3f5f\"}}, \"ternary\": {\"aaxis\": {\"gridcolor\": \"white\", \"linecolor\": \"white\", \"ticks\": \"\"}, \"baxis\": {\"gridcolor\": \"white\", \"linecolor\": \"white\", \"ticks\": \"\"}, \"bgcolor\": \"#E5ECF6\", \"caxis\": {\"gridcolor\": \"white\", \"linecolor\": \"white\", \"ticks\": \"\"}}, \"title\": {\"x\": 0.05}, \"xaxis\": {\"automargin\": true, \"gridcolor\": \"white\", \"linecolor\": \"white\", \"ticks\": \"\", \"title\": {\"standoff\": 15}, \"zerolinecolor\": \"white\", \"zerolinewidth\": 2}, \"yaxis\": {\"automargin\": true, \"gridcolor\": \"white\", \"linecolor\": \"white\", \"ticks\": \"\", \"title\": {\"standoff\": 15}, \"zerolinecolor\": \"white\", \"zerolinewidth\": 2}}}},\n",
       "                        {\"responsive\": true}\n",
       "                    ).then(function(){\n",
       "                            \n",
       "var gd = document.getElementById('2ca56efe-dd59-4471-ba5a-9d2b06552b39');\n",
       "var x = new MutationObserver(function (mutations, observer) {{\n",
       "        var display = window.getComputedStyle(gd).display;\n",
       "        if (!display || display === 'none') {{\n",
       "            console.log([gd, 'removed!']);\n",
       "            Plotly.purge(gd);\n",
       "            observer.disconnect();\n",
       "        }}\n",
       "}});\n",
       "\n",
       "// Listen for the removal of the full notebook cells\n",
       "var notebookContainer = gd.closest('#notebook-container');\n",
       "if (notebookContainer) {{\n",
       "    x.observe(notebookContainer, {childList: true});\n",
       "}}\n",
       "\n",
       "// Listen for the clearing of the current output cell\n",
       "var outputEl = gd.closest('.output');\n",
       "if (outputEl) {{\n",
       "    x.observe(outputEl, {childList: true});\n",
       "}}\n",
       "\n",
       "                        })\n",
       "                };\n",
       "                });\n",
       "            </script>\n",
       "        </div>"
      ]
     },
     "metadata": {},
     "output_type": "display_data"
    }
   ],
   "source": [
    "py.offline.iplot([adly],filename = \"output_Afghanistan.html\")"
   ]
  },
  {
   "cell_type": "code",
   "execution_count": 153,
   "metadata": {},
   "outputs": [],
   "source": [
    "奥地利 = Scatter(\n",
    "    x=[int(x) for x in dfa.columns],\n",
    "    y=dfa.loc[\"Austria\",:].values\n",
    ")"
   ]
  },
  {
   "cell_type": "code",
   "execution_count": 154,
   "metadata": {},
   "outputs": [],
   "source": [
    "比利时 = Scatter(\n",
    "    x=[int(x) for x in dfa.columns],\n",
    "    y=dfa.loc[\"Belgium\",:].values\n",
    ")"
   ]
  },
  {
   "cell_type": "code",
   "execution_count": 155,
   "metadata": {},
   "outputs": [],
   "source": [
    "加拿大 = Scatter(\n",
    "    x=[int(x) for x in dfa.columns],\n",
    "    y=dfa.loc[\"Canada\",:].values\n",
    ")"
   ]
  },
  {
   "cell_type": "code",
   "execution_count": 157,
   "metadata": {},
   "outputs": [],
   "source": [
    "捷克 = Scatter(\n",
    "    x=[int(x) for x in dfa.columns],\n",
    "    y=dfa.loc[\"Czech Republic\",:].values\n",
    ")"
   ]
  },
  {
   "cell_type": "code",
   "execution_count": 158,
   "metadata": {},
   "outputs": [],
   "source": [
    "丹麦 = Scatter(\n",
    "    x=[int(x) for x in dfa.columns],\n",
    "    y=dfa.loc[\"Denmark\",:].values\n",
    ")"
   ]
  },
  {
   "cell_type": "code",
   "execution_count": 159,
   "metadata": {},
   "outputs": [],
   "source": [
    "爱沙尼亚 = Scatter(\n",
    "    x=[int(x) for x in dfa.columns],\n",
    "    y=dfa.loc[\"Estonia\",:].values\n",
    ")"
   ]
  },
  {
   "cell_type": "code",
   "execution_count": 160,
   "metadata": {},
   "outputs": [],
   "source": [
    "欧洲 = Scatter(\n",
    "    x=[int(x) for x in dfa.columns],\n",
    "    y=dfa.loc[\"Europe\",:].values\n",
    ")"
   ]
  },
  {
   "cell_type": "code",
   "execution_count": 161,
   "metadata": {},
   "outputs": [],
   "source": [
    "芬兰 = Scatter(\n",
    "    x=[int(x) for x in dfa.columns],\n",
    "    y=dfa.loc[\"Finland\",:].values\n",
    ")"
   ]
  },
  {
   "cell_type": "code",
   "execution_count": 162,
   "metadata": {},
   "outputs": [],
   "source": [
    "法国 = Scatter(\n",
    "    x=[int(x) for x in dfa.columns],\n",
    "    y=dfa.loc[\"France\",:].values\n",
    ")"
   ]
  },
  {
   "cell_type": "code",
   "execution_count": 163,
   "metadata": {},
   "outputs": [],
   "source": [
    "德国 = Scatter(\n",
    "    x=[int(x) for x in dfa.columns],\n",
    "    y=dfa.loc[\"Germany\",:].values\n",
    ")"
   ]
  },
  {
   "cell_type": "code",
   "execution_count": 164,
   "metadata": {},
   "outputs": [],
   "source": [
    "希腊 = Scatter(\n",
    "    x=[int(x) for x in dfa.columns],\n",
    "    y=dfa.loc[\"Greece\",:].values\n",
    ")"
   ]
  },
  {
   "cell_type": "code",
   "execution_count": 165,
   "metadata": {},
   "outputs": [],
   "source": [
    "匈牙利 = Scatter(\n",
    "    x=[int(x) for x in dfa.columns],\n",
    "    y=dfa.loc[\"Hungary\",:].values\n",
    ")"
   ]
  },
  {
   "cell_type": "code",
   "execution_count": 166,
   "metadata": {},
   "outputs": [],
   "source": [
    "冰岛 = Scatter(\n",
    "    x=[int(x) for x in dfa.columns],\n",
    "    y=dfa.loc[\"Iceland\",:].values\n",
    ")"
   ]
  },
  {
   "cell_type": "code",
   "execution_count": 167,
   "metadata": {},
   "outputs": [],
   "source": [
    "爱尔兰 = Scatter(\n",
    "    x=[int(x) for x in dfa.columns],\n",
    "    y=dfa.loc[\"Ireland\",:].values\n",
    ")"
   ]
  },
  {
   "cell_type": "code",
   "execution_count": null,
   "metadata": {},
   "outputs": [],
   "source": [
    "意大利 = Scatter(\n",
    "    x=[int(x) for x in dfa.columns],\n",
    "    y=dfa.loc[\"Italy\",:].values\n",
    ")"
   ]
  },
  {
   "cell_type": "code",
   "execution_count": 169,
   "metadata": {},
   "outputs": [],
   "source": [
    "日本 = Scatter(\n",
    "    x=[int(x) for x in dfa.columns],\n",
    "    y=dfa.loc[\"Japan\",:].values\n",
    ")"
   ]
  },
  {
   "cell_type": "code",
   "execution_count": 170,
   "metadata": {},
   "outputs": [],
   "source": [
    "拉脱维亚 = Scatter(\n",
    "    x=[int(x) for x in dfa.columns],\n",
    "    y=dfa.loc[\"Latvia\",:].values\n",
    ")"
   ]
  },
  {
   "cell_type": "code",
   "execution_count": 171,
   "metadata": {},
   "outputs": [],
   "source": [
    "卢森堡 = Scatter(\n",
    "    x=[int(x) for x in dfa.columns],\n",
    "    y=dfa.loc[\"Luxembourg\",:].values\n",
    ")"
   ]
  },
  {
   "cell_type": "code",
   "execution_count": 172,
   "metadata": {},
   "outputs": [],
   "source": [
    "荷兰 = Scatter(\n",
    "    x=[int(x) for x in dfa.columns],\n",
    "    y=dfa.loc[\"Netherlands\",:].values\n",
    ")"
   ]
  },
  {
   "cell_type": "code",
   "execution_count": 173,
   "metadata": {},
   "outputs": [],
   "source": [
    "新西兰 = Scatter(\n",
    "    x=[int(x) for x in dfa.columns],\n",
    "    y=dfa.loc[\"New Zealand\",:].values\n",
    ")"
   ]
  },
  {
   "cell_type": "code",
   "execution_count": null,
   "metadata": {},
   "outputs": [],
   "source": [
    "新西兰 = Scatter(\n",
    "    x=[int(x) for x in dfa.columns],\n",
    "    y=dfa.loc[\"New Zealand\",:].values\n",
    ")"
   ]
  },
  {
   "cell_type": "code",
   "execution_count": 174,
   "metadata": {},
   "outputs": [],
   "source": [
    "挪威 = Scatter(\n",
    "    x=[int(x) for x in dfa.columns],\n",
    "    y=dfa.loc[\"Norway\",:].values\n",
    ")"
   ]
  },
  {
   "cell_type": "code",
   "execution_count": 175,
   "metadata": {},
   "outputs": [],
   "source": [
    "经济合作与发展组织 = Scatter(\n",
    "    x=[int(x) for x in dfa.columns],\n",
    "    y=dfa.loc[\"OECD - Total\",:].values\n",
    ")"
   ]
  },
  {
   "cell_type": "code",
   "execution_count": null,
   "metadata": {},
   "outputs": [],
   "source": [
    "波兰 = Scatter(\n",
    "    x=[int(x) for x in dfa.columns],\n",
    "    y=dfa.loc[\"Poland\",:].values\n",
    ")"
   ]
  },
  {
   "cell_type": "code",
   "execution_count": 178,
   "metadata": {},
   "outputs": [],
   "source": [
    "葡萄牙 = Scatter(\n",
    "    x=[int(x) for x in dfa.columns],\n",
    "    y=dfa.loc[\"Portugal\",:].values\n",
    ")"
   ]
  },
  {
   "cell_type": "code",
   "execution_count": 179,
   "metadata": {},
   "outputs": [],
   "source": [
    "斯洛伐克 = Scatter(\n",
    "    x=[int(x) for x in dfa.columns],\n",
    "    y=dfa.loc[\"Slovakia\",:].values\n",
    ")"
   ]
  },
  {
   "cell_type": "code",
   "execution_count": 180,
   "metadata": {},
   "outputs": [],
   "source": [
    "斯洛文尼亚 = Scatter(\n",
    "    x=[int(x) for x in dfa.columns],\n",
    "    y=dfa.loc[\"Slovenia\",:].values\n",
    ")"
   ]
  },
  {
   "cell_type": "code",
   "execution_count": null,
   "metadata": {},
   "outputs": [],
   "source": [
    "西班牙 = Scatter(\n",
    "    x=[int(x) for x in dfa.columns],\n",
    "    y=dfa.loc[\"Spain\",:].values\n",
    ")"
   ]
  },
  {
   "cell_type": "code",
   "execution_count": 181,
   "metadata": {},
   "outputs": [],
   "source": [
    "瑞典 = Scatter(\n",
    "    x=[int(x) for x in dfa.columns],\n",
    "    y=dfa.loc[\"Sweden\",:].values\n",
    ")"
   ]
  },
  {
   "cell_type": "code",
   "execution_count": 182,
   "metadata": {},
   "outputs": [],
   "source": [
    "瑞士 = Scatter(\n",
    "    x=[int(x) for x in dfa.columns],\n",
    "    y=dfa.loc[\"Switzerland\",:].values\n",
    ")"
   ]
  },
  {
   "cell_type": "code",
   "execution_count": 183,
   "metadata": {},
   "outputs": [],
   "source": [
    "turkey1 = Scatter(\n",
    "    x=[int(x) for x in dfa.columns],\n",
    "    y=dfa.loc[\"Turkey\",:].values\n",
    ")"
   ]
  },
  {
   "cell_type": "code",
   "execution_count": 185,
   "metadata": {},
   "outputs": [],
   "source": [
    "英国 = Scatter(\n",
    "    x=[int(x) for x in dfa.columns],\n",
    "    y=dfa.loc[\"United Kingdom\",:].values\n",
    ")"
   ]
  },
  {
   "cell_type": "code",
   "execution_count": 186,
   "metadata": {},
   "outputs": [],
   "source": [
    "美国 = Scatter(\n",
    "    x=[int(x) for x in dfa.columns],\n",
    "    y=dfa.loc[\"United States\",:].values\n",
    ")"
   ]
  },
  {
   "cell_type": "code",
   "execution_count": 200,
   "metadata": {},
   "outputs": [],
   "source": [
    "import plotly as py\n",
    "import plotly.graph_objs as go\n",
    "\n",
    "奥地利 = go.Scatter(\n",
    "    x=[pd.to_datetime('01/01/{y}'.format(y=x), format=\"%m/%d/%Y\") for x in dfa.columns.values],\n",
    "    y=dfa.loc[\"Austria\",:].values,\n",
    "    name = \"奥地利\"\n",
    ")\n",
    "\n",
    "比利时 = go.Scatter(\n",
    "    x=[pd.to_datetime('01/01/{y}'.format(y=x), format=\"%m/%d/%Y\") for x in dfa.columns.values],\n",
    "    y=dfa.loc[\"Belgium\",:].values,\n",
    "    name = \"比利时\"\n",
    ")\n",
    "\n",
    "加拿大 = go.Scatter(\n",
    "    x=[pd.to_datetime('01/01/{y}'.format(y=x), format=\"%m/%d/%Y\") for x in dfa.columns.values],\n",
    "    y=dfa.loc[\"Canada\",:].values,\n",
    "    name = \"加拿大\"\n",
    ")\n",
    "\n",
    "捷克 = go.Scatter(\n",
    "    x=[pd.to_datetime('01/01/{y}'.format(y=x), format=\"%m/%d/%Y\") for x in dfa.columns.values],\n",
    "    y=dfa.loc[\"Czech Republic\",:].values,\n",
    "    name = \"捷克\"\n",
    ")\n",
    "\n",
    "\n",
    "丹麦 = go.Scatter(\n",
    "    x=[pd.to_datetime('01/01/{y}'.format(y=x), format=\"%m/%d/%Y\") for x in dfa.columns.values],\n",
    "    y=dfa.loc[\"Denmark\",:].values,\n",
    "    name = \"丹麦\"\n",
    ")\n",
    "\n",
    "爱沙尼亚 = go.Scatter(\n",
    "    x=[pd.to_datetime('01/01/{y}'.format(y=x), format=\"%m/%d/%Y\") for x in dfa.columns.values],\n",
    "    y=dfa.loc[\"Estonia\",:].values,\n",
    "    name = \"爱沙尼亚\"\n",
    ")\n",
    "\n",
    "欧洲 = go.Scatter(\n",
    "    x=[pd.to_datetime('01/01/{y}'.format(y=x), format=\"%m/%d/%Y\") for x in dfa.columns.values],\n",
    "    y=dfa.loc[\"Europe\",:].values,\n",
    "    name = \"欧洲 \"\n",
    ")\n",
    "\n",
    "芬兰 = go.Scatter(\n",
    "    x=[pd.to_datetime('01/01/{y}'.format(y=x), format=\"%m/%d/%Y\") for x in dfa.columns.values],\n",
    "    y=dfa.loc[\"Finland\",:].values,\n",
    "    name = \"芬兰\"\n",
    ")\n",
    "\n",
    "新西兰 = go.Scatter(\n",
    "    x=[pd.to_datetime('01/01/{y}'.format(y=x), format=\"%m/%d/%Y\") for x in dfa.columns.values],\n",
    "    y=dfa.loc[\"New Zealand\",:].values,\n",
    "    name = \"新西兰\"\n",
    ")\n",
    "\n",
    "挪威 = go.Scatter(\n",
    "    x=[pd.to_datetime('01/01/{y}'.format(y=x), format=\"%m/%d/%Y\") for x in dfa.columns.values],\n",
    "    y=dfa.loc[\"Norway\",:].values,\n",
    "    name = \"挪威\"\n",
    ")\n",
    "\n",
    "经济合作与发展组织 = go.Scatter(\n",
    "    x=[pd.to_datetime('01/01/{y}'.format(y=x), format=\"%m/%d/%Y\") for x in dfa.columns.values],\n",
    "    y=dfa.loc[\"OECD - Total\",:].values,\n",
    "    name = \"经济合作与发展组织\"\n",
    ")\n",
    "\n",
    "波兰 = go.Scatter(\n",
    "    x=[pd.to_datetime('01/01/{y}'.format(y=x), format=\"%m/%d/%Y\") for x in dfa.columns.values],\n",
    "    y=dfa.loc[\"Poland\",:].values,\n",
    "    name = \"波兰\"\n",
    ")\n",
    "\n",
    "葡萄牙 = go.Scatter(\n",
    "    x=[pd.to_datetime('01/01/{y}'.format(y=x), format=\"%m/%d/%Y\") for x in dfa.columns.values],\n",
    "    y=dfa.loc[\"Portugal\",:].values,\n",
    "    name = \"葡萄牙\"\n",
    ")\n",
    "\n",
    "\n",
    "斯洛伐克 = go.Scatter(\n",
    "    x=[pd.to_datetime('01/01/{y}'.format(y=x), format=\"%m/%d/%Y\") for x in dfa.columns.values],\n",
    "    y=dfa.loc[\"Slovakia\",:].values,\n",
    "    name = \"斯洛伐克\"\n",
    ")\n",
    "\n",
    "斯洛文尼亚 = go.Scatter(\n",
    "    x=[pd.to_datetime('01/01/{y}'.format(y=x), format=\"%m/%d/%Y\") for x in dfa.columns.values],\n",
    "    y=dfa.loc[\"Slovenia\",:].values,\n",
    "    name = \"斯洛文尼亚\"\n",
    ")\n",
    "\n",
    "\n",
    "西班牙 = go.Scatter(\n",
    "    x=[pd.to_datetime('01/01/{y}'.format(y=x), format=\"%m/%d/%Y\") for x in dfa.columns.values],\n",
    "    y=dfa.loc[\"Spain\",:].values,\n",
    "    name = \"西班牙\"\n",
    ")\n",
    "\n",
    "瑞典 = go.Scatter(\n",
    "    x=[pd.to_datetime('01/01/{y}'.format(y=x), format=\"%m/%d/%Y\") for x in dfa.columns.values],\n",
    "    y=dfa.loc[\"Sweden\",:].values,\n",
    "    name = \"瑞典\"\n",
    ")\n",
    "\n",
    "瑞士 = go.Scatter(\n",
    "    x=[pd.to_datetime('01/01/{y}'.format(y=x), format=\"%m/%d/%Y\") for x in dfa.columns.values],\n",
    "    y=dfa.loc[\"Switzerland\",:].values,\n",
    "    name = \"瑞士\"\n",
    ")\n",
    "\n",
    "Turkey1 = go.Scatter(\n",
    "    x=[pd.to_datetime('01/01/{y}'.format(y=x), format=\"%m/%d/%Y\") for x in dfa.columns.values],\n",
    "    y=dfa.loc[\"Turkey\",:].values,\n",
    "    name = \"Turkey1\"\n",
    ")\n",
    "\n",
    "英国 = go.Scatter(\n",
    "    x=[pd.to_datetime('01/01/{y}'.format(y=x), format=\"%m/%d/%Y\") for x in dfa.columns.values],\n",
    "    y=dfa.loc[\"United Kingdom\",:].values,\n",
    "    name = \"英国 \"\n",
    ")\n",
    "\n",
    "美国 = go.Scatter(\n",
    "    x=[pd.to_datetime('01/01/{y}'.format(y=x), format=\"%m/%d/%Y\") for x in dfa.columns.values],\n",
    "    y=dfa.loc[\"United States\",:].values,\n",
    "    name = \"美国 \"\n",
    ")\n",
    "\n",
    "\n",
    "layout = dict(xaxis=dict(rangeselector=dict( buttons=list([\n",
    "                                                dict(count=3,\n",
    "                                                     label=\"3年\",\n",
    "                                                     step=\"year\",\n",
    "                                                     stepmode=\"backward\"),\n",
    "                                                dict(count=5,\n",
    "                                                     label=\"5年\",\n",
    "                                                     step=\"year\",\n",
    "                                                     stepmode=\"backward\"),\n",
    "                                                dict(count=10,\n",
    "                                                     label=\"10年\",\n",
    "                                                     step=\"year\",\n",
    "                                                     stepmode=\"backward\"),\n",
    "                                                dict(count=20,\n",
    "                                                     label=\"20年\",\n",
    "                                                     step=\"year\",\n",
    "                                                     stepmode=\"backward\"),\n",
    "                                                dict(step=\"all\")\n",
    "                                            ])),\n",
    "                         rangeslider=dict(bgcolor=\"#70EC57\"),\n",
    "                         title='年份'\n",
    "                        ),\n",
    "              yaxis=dict(title='发达国家工业污染物排放量'),\n",
    "              title=\"发达国家污染物排放量\"               \n",
    "             )\n",
    "\n",
    "abc = dict(data=[奥地利,比利时,加拿大,捷克,丹麦,爱沙尼亚,欧洲,芬兰,新西兰,挪威,经济合作与发展组织,波兰,葡萄牙,斯洛伐克,西班牙,瑞典,瑞士,turkey1,英国,美国], layout=layout) "
   ]
  },
  {
   "cell_type": "code",
   "execution_count": 203,
   "metadata": {},
   "outputs": [
    {
     "data": {
      "text/plain": [
       "'发达国家工业污染物排放量.html'"
      ]
     },
     "execution_count": 203,
     "metadata": {},
     "output_type": "execute_result"
    }
   ],
   "source": [
    "py.offline.plot(abc, filename = \"发达国家工业污染物排放量.html\")"
   ]
  },
  {
   "cell_type": "code",
   "execution_count": null,
   "metadata": {},
   "outputs": [],
   "source": []
  }
 ],
 "metadata": {
  "kernelspec": {
   "display_name": "Python 3",
   "language": "python",
   "name": "python3"
  },
  "language_info": {
   "codemirror_mode": {
    "name": "ipython",
    "version": 3
   },
   "file_extension": ".py",
   "mimetype": "text/x-python",
   "name": "python",
   "nbconvert_exporter": "python",
   "pygments_lexer": "ipython3",
   "version": "3.7.0"
  }
 },
 "nbformat": 4,
 "nbformat_minor": 2
}
