{
 "cells": [
  {
   "cell_type": "code",
   "execution_count": 1,
   "metadata": {},
   "outputs": [
    {
     "data": {
      "text/plain": [
       "'2017年死亡因素下的死亡人数比例对比.html'"
      ]
     },
     "execution_count": 1,
     "metadata": {},
     "output_type": "execute_result"
    }
   ],
   "source": [
    "import plotly as py\n",
    "import plotly.graph_objects as go\n",
    "\n",
    "pyplt = py.offline.plot\n",
    "labels = ['不安全水源','恶劣的卫生条件','二手烟','饮酒','吸毒','低体力活动','高血糖','肥胖','高血压','吸烟','空气污染','少吃蔬菜','恶劣的卫生条件','不安全的性行为','低出生体重']\n",
    "values = [1.23,0.77,1.22,2.84,0.58,1.26,6.53,4.72,10.44,7.1,4.9,1.46,0.76,1.03,1.1]\n",
    "trace = [go.Pie(labels=labels, values=values)]\n",
    "layout = go.Layout(\n",
    "    title = '2017年死亡因素下的死亡人数比例对比',\n",
    ")\n",
    "\n",
    "fig = go.Figure(data=[go.Pie(labels=labels, values=values, pull=[0,0,0,0,0,0,0,0,0,0,0.2,0,0,0])])\n",
    "pyplt(fig, filename='2017年死亡因素下的死亡人数比例对比.html')"
   ]
  },
  {
   "cell_type": "code",
   "execution_count": null,
   "metadata": {},
   "outputs": [],
   "source": []
  }
 ],
 "metadata": {
  "kernelspec": {
   "display_name": "Python 3",
   "language": "python",
   "name": "python3"
  },
  "language_info": {
   "codemirror_mode": {
    "name": "ipython",
    "version": 3
   },
   "file_extension": ".py",
   "mimetype": "text/x-python",
   "name": "python",
   "nbconvert_exporter": "python",
   "pygments_lexer": "ipython3",
   "version": "3.7.0"
  }
 },
 "nbformat": 4,
 "nbformat_minor": 2
}
