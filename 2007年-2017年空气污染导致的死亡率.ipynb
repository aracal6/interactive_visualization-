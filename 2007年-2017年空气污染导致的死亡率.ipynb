{
 "cells": [
  {
   "cell_type": "code",
   "execution_count": 2,
   "metadata": {},
   "outputs": [
    {
     "data": {
      "text/plain": [
       "'C:\\\\Users\\\\dai\\\\Desktop\\\\render.html'"
      ]
     },
     "execution_count": 2,
     "metadata": {},
     "output_type": "execute_result"
    }
   ],
   "source": [
    "from pyecharts.charts import Bar,Tab,Line,Map,Timeline,Grid,Scatter\n",
    "from pyecharts import options as opts \n",
    "import pandas as pd \n",
    "import numpy as np\n",
    "\n",
    "df2 = pd.read_csv(\"Death_rates_from_air_pollution.csv\",encoding='utf-8') \n",
    "\n",
    "# 历年空气污染导致的死亡率变化图\n",
    "def timeline_map() -> Timeline:\n",
    "    tl = Timeline()\n",
    "    for i in range(2007, 2017):\n",
    "        map0 = (\n",
    "            Map()\n",
    "            .add(\n",
    "                \"\", list(zip(list(df2.Country),list(df2[\"{}年\".format(i)]))), \"world\",is_map_symbol_show = False\n",
    "            )\n",
    "            .set_series_opts(label_opts=opts.LabelOpts(is_show=False))\n",
    "            .set_global_opts(\n",
    "                title_opts=opts.TitleOpts(title=\"2007年-2017年空气污染导致的死亡率\".format(i),subtitle=\"\",\n",
    "                                         subtitle_textstyle_opts=opts.TextStyleOpts(color=\"black\",font_size=16,font_style=\"italic\")),\n",
    "                visualmap_opts=opts.VisualMapOpts(min_= df2[\"2007年\"].min(), max_=df2[\"2017年\"].max(),series_index=0),\n",
    "            \n",
    "            )\n",
    "        )\n",
    "        tl.add(map0, \"{}年\".format(i))\n",
    "    return tl\n",
    "timeline_map().render()"
   ]
  },
  {
   "cell_type": "code",
   "execution_count": null,
   "metadata": {},
   "outputs": [],
   "source": []
  }
 ],
 "metadata": {
  "kernelspec": {
   "display_name": "Python 3",
   "language": "python",
   "name": "python3"
  },
  "language_info": {
   "codemirror_mode": {
    "name": "ipython",
    "version": 3
   },
   "file_extension": ".py",
   "mimetype": "text/x-python",
   "name": "python",
   "nbconvert_exporter": "python",
   "pygments_lexer": "ipython3",
   "version": "3.7.0"
  }
 },
 "nbformat": 4,
 "nbformat_minor": 2
}
